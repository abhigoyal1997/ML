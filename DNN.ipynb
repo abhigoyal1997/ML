{
 "cells": [
  {
   "cell_type": "code",
   "execution_count": 3,
   "metadata": {},
   "outputs": [],
   "source": [
    "import sys\n",
    "sys.path.append('fashion-mnist')\n",
    "\n",
    "from utils.mnist_reader import load_mnist\n",
    "\n",
    "X_train, y_train = load_mnist('fashion-mnist/data/fashion', kind='train')\n",
    "X_test, y_test = load_mnist('fashion-mnist/data/fashion', kind='t10k')"
   ]
  },
  {
   "cell_type": "code",
   "execution_count": 4,
   "metadata": {},
   "outputs": [],
   "source": [
    "import numpy as np\n",
    "import seaborn as sns\n",
    "from random import shuffle\n",
    "from typing import Dict, List, Tuple, Iterable\n",
    "from tqdm.notebook import tqdm"
   ]
  },
  {
   "cell_type": "code",
   "execution_count": 5,
   "metadata": {},
   "outputs": [
    {
     "name": "stdout",
     "output_type": "stream",
     "text": [
      "(54000, 784) (54000,)\n",
      "(6000, 784) (6000,)\n",
      "(10000, 784) (10000,)\n"
     ]
    }
   ],
   "source": [
    "val_size = int(len(X_train)*0.1)\n",
    "\n",
    "idx = np.arange(len(X_train))\n",
    "shuffle(idx)\n",
    "X_train, y_train = X_train[idx], y_train[idx]\n",
    "X_val, y_val = X_train[:val_size], y_train[:val_size]\n",
    "X_train, y_train = X_train[val_size:], y_train[val_size:]\n",
    "\n",
    "print(X_train.shape, y_train.shape)\n",
    "print(X_val.shape, y_val.shape)\n",
    "print(X_test.shape, y_test.shape)"
   ]
  },
  {
   "cell_type": "code",
   "execution_count": 6,
   "metadata": {},
   "outputs": [
    {
     "data": {
      "text/plain": [
       "<Axes: >"
      ]
     },
     "execution_count": 6,
     "metadata": {},
     "output_type": "execute_result"
    },
    {
     "data": {
      "image/png": "[encoded data removed]",
      "text/plain": [
       "<Figure size 640x480 with 2 Axes>"
      ]
     },
     "metadata": {},
     "output_type": "display_data"
    }
   ],
   "source": [
    "sns.heatmap(X_train[np.random.randint(len(X_train))].reshape(28, 28))"
   ]
  },
  {
   "cell_type": "code",
   "execution_count": 7,
   "metadata": {},
   "outputs": [],
   "source": [
    "def data_loader(data: Tuple, batch_size: int, train: bool=False):\n",
    "    if train:\n",
    "        idx = np.arange(len(X_train))\n",
    "        shuffle(idx)\n",
    "        data = [x[idx] for x in data]\n",
    "        \n",
    "    for i in range(0, len(data[0]), batch_size):\n",
    "        yield tuple(x[i:i+batch_size] for x in data)\n",
    "        \n",
    "def prepare_inputs(X: np.ndarray):\n",
    "    return (X / 255) - 0.5"
   ]
  },
  {
   "cell_type": "code",
   "execution_count": 8,
   "metadata": {},
   "outputs": [],
   "source": [
    "class Parameter:\n",
    "    def __init__(self, data: np.ndarray):\n",
    "        self.data = data\n",
    "        self.grad = None\n",
    "        \n",
    "    def __repr__(self):\n",
    "        return f\"Parameter(data={self.data}, grad={self.grad})\"\n",
    "\n",
    "class Module:\n",
    "    def __init__(self, **parameters: Dict[str, Parameter]):\n",
    "        self.parameters: Dict[str, Parameter] = parameters\n",
    "        self.training = False\n",
    "    \n",
    "    def __call__(self, *inputs):\n",
    "        self._inputs = inputs\n",
    "        self._outputs = self.forward(*inputs)\n",
    "        return self._outputs\n",
    "    \n",
    "    def train(self, training: bool=True):\n",
    "        self.training = training\n",
    "        for k in dir(self):\n",
    "            if isinstance(getattr(self, k), Module):\n",
    "                getattr(self, k).train(training)\n",
    "        \n",
    "    def eval(self):\n",
    "        self.train(False)\n",
    "        \n",
    "    def __repr__(self):\n",
    "        modules = []\n",
    "        for k in dir(self):\n",
    "            if isinstance(getattr(self, k), Module):\n",
    "                modules.append(f\"{getattr(self, k)}\")\n",
    "                \n",
    "        return f\"{self.__class__.__name__}(\\n\" + \"\\n\".join([\"\\t\"+module for module in \",\\n\".join(modules).split(\"\\n\")]) + \"\\n)\"\n",
    "        \n",
    "class ModuleList(Module):\n",
    "    def __init__(self, modules: List[Module]=[]):\n",
    "        self.modules = modules\n",
    "        parameters = {}\n",
    "        for i, module in enumerate(self.modules):\n",
    "            parameters.update({f\"{i}.{k}\": v for k,v in module.parameters.items()})\n",
    "            \n",
    "        super().__init__(**parameters)\n",
    "        \n",
    "    def train(self, training: bool=True):\n",
    "        super().train(training)\n",
    "        for module in self.modules:\n",
    "            module.train()\n",
    "            \n",
    "    def __len__(self) -> int:\n",
    "        return len(self.modules)\n",
    "            \n",
    "    def __getitem__(self, idx: int) -> Module:\n",
    "        return self.modules[idx]\n",
    "            \n",
    "    def __iter__(self) -> Iterable[Module]:\n",
    "        for module in self.modules:\n",
    "            yield module\n",
    "            \n",
    "    def __repr__(self):\n",
    "        modules = \",\\n\".join([repr(module) for module in self.modules])\n",
    "        return \"ModuleList([\\n\" + \"\\n\".join([\"\\t\"+module for module in modules.split(\"\\n\")]) + \"\\n])\""
   ]
  },
  {
   "cell_type": "code",
   "execution_count": 9,
   "metadata": {},
   "outputs": [],
   "source": [
    "class Linear(Module):\n",
    "    def __init__(self, input_features: int, output_features: int):\n",
    "        self.w = Parameter(np.random.randn(input_features, output_features) * np.sqrt(2 / input_features))\n",
    "        self.b = Parameter(np.zeros(output_features))\n",
    "        super().__init__(w=self.w, b=self.b)\n",
    "        \n",
    "    def forward(self, X: np.ndarray) -> np.ndarray:\n",
    "        return X @ self.w.data + self.b.data\n",
    "    \n",
    "    def backward(self, grad_output: np.ndarray):\n",
    "        X = self._inputs[0]\n",
    "        self.w.grad = X.T @ grad_output\n",
    "        self.b.grad = grad_output.sum(axis=0)\n",
    "        return grad_output @ self.w.data.T\n",
    "    \n",
    "    def __repr__(self):\n",
    "        return f\"Linear({self.w.data.shape[0]},{self.w.data.shape[1]})\"\n",
    "    \n",
    "class ReLU(Module):\n",
    "    def forward(self, X: np.ndarray) -> np.ndarray:\n",
    "        self._mask = X > 0\n",
    "        return X * self._mask\n",
    "    \n",
    "    def backward(self, grad_output: np.ndarray):\n",
    "        return grad_output * self._mask\n",
    "    \n",
    "    def __repr__(self):\n",
    "        return f\"ReLU()\"\n",
    "    \n",
    "class Dropout(Module):\n",
    "    def __init__(self, dropout: float):\n",
    "        assert (0 <= dropout < 1)\n",
    "        super().__init__()\n",
    "        self.dropout = dropout\n",
    "        \n",
    "    def forward(self, X: np.ndarray) -> np.ndarray:        \n",
    "        if self.training:\n",
    "            self._mask = np.random.rand(*X.shape) > self.dropout\n",
    "            return (X * self._mask) / (1 - self.dropout)\n",
    "        \n",
    "        return X\n",
    "    \n",
    "    def backward(self, grad_output: np.ndarray) -> np.ndarray:\n",
    "        return (grad_output * self._mask) / (1 - self.dropout)\n",
    "    \n",
    "    def __repr__(self):\n",
    "        return f\"Dropout({self.dropout})\"\n",
    "    \n",
    "class ResBlock(Module):\n",
    "    def __init__(self, hidden_size: int, dropout: float):\n",
    "        self.linear = Linear(hidden_size, hidden_size)\n",
    "        self.relu = ReLU()\n",
    "        self.dropout = Dropout(dropout)\n",
    "        super().__init__(**self.linear.parameters)\n",
    "        \n",
    "    def forward(self, X: np.ndarray) -> np.ndarray:\n",
    "        return self.dropout(self.relu(self.linear(X)) + X)\n",
    "    \n",
    "    def backward(self, grad_output: np.ndarray) -> np.ndarray:\n",
    "        return self.linear.backward(self.relu.backward(self.dropout.backward(grad_output))) + grad_output\n",
    "    \n",
    "class Model(Module):\n",
    "    def __init__(self, input_features: int, num_classes: int, hidden_sizes: List[int], dropout: float):\n",
    "        self.layers = ModuleList([Linear(input_features, hidden_sizes[0]), ReLU()] + \\\n",
    "            [ResBlock(h, dropout) for h in hidden_sizes] + [Linear(hidden_sizes[-1], num_classes)])\n",
    "\n",
    "        super().__init__(**self.layers.parameters)\n",
    "        \n",
    "    def forward(self, X: np.ndarray) -> np.ndarray:\n",
    "        for layer in self.layers:\n",
    "            X = layer(X)\n",
    "        return X\n",
    "    \n",
    "    def backward(self, grad_output: np.ndarray) -> np.ndarray:\n",
    "        for layer in reversed(self.layers):\n",
    "            grad_output = layer.backward(grad_output)\n",
    "        return grad_output"
   ]
  },
  {
   "cell_type": "code",
   "execution_count": 10,
   "metadata": {},
   "outputs": [],
   "source": [
    "def softmax(z: np.ndarray) -> np.ndarray:\n",
    "    ez = np.exp(z - z.max(axis=-1, keepdims=True))\n",
    "    return ez / ez.sum(axis=-1, keepdims=True)\n",
    "\n",
    "def accuracy(preds: np.ndarray, targets: np.ndarray) -> float:\n",
    "    return (preds == targets).mean().item()"
   ]
  },
  {
   "cell_type": "code",
   "execution_count": 11,
   "metadata": {},
   "outputs": [],
   "source": [
    "class Loss(Module):\n",
    "    def forward(self, logits: np.ndarray, y: np.ndarray) -> np.ndarray:\n",
    "        logits -= logits.max(axis=-1, keepdims=True)\n",
    "        return (np.log(np.sum(np.exp(logits), axis=-1)) - logits[np.arange(len(y)), y]).mean()\n",
    "    \n",
    "    def backward(self, _) -> np.ndarray:\n",
    "        logits, y = self._inputs\n",
    "        grads = softmax(logits)\n",
    "        grads[np.arange(len(y)), y] -= 1\n",
    "        return grads / len(y)"
   ]
  },
  {
   "cell_type": "code",
   "execution_count": 12,
   "metadata": {},
   "outputs": [],
   "source": [
    "class SGD:\n",
    "    def __init__(self, params: List[Parameter], lr: float, weight_decay: float=0.0, max_grad_norm: float=1.0):\n",
    "        self.params = params\n",
    "        self.lr = lr\n",
    "        self.weight_decay = weight_decay\n",
    "        self.max_grad_norm = max_grad_norm\n",
    "        \n",
    "    def step(self):\n",
    "        for param in self.params:\n",
    "            param.grad *= self.max_grad_norm / max(self.max_grad_norm, (param.grad ** 2).sum())\n",
    "            param.data -= self.lr * (param.grad + self.weight_decay * param.data)\n",
    "            \n",
    "    def zero_grad(self):\n",
    "        for param in self.params:\n",
    "            param.grad = None"
   ]
  },
  {
   "cell_type": "code",
   "execution_count": null,
   "metadata": {},
   "outputs": [],
   "source": [
    "input_features = 784\n",
    "output_classes = 10\n",
    "hidden_sizes = [32,32,32]\n",
    "dropout = 0.2\n",
    "batch_size = 128\n",
    "lr = 0.003\n",
    "weight_decay = 0.0\n",
    "num_epochs = 40\n",
    "\n",
    "model = Model(input_features, output_classes, hidden_sizes, dropout)\n",
    "loss_fn = Loss()\n",
    "optim = SGD(list(model.parameters.values()), lr=lr, weight_decay=weight_decay)"
   ]
  },
  {
   "cell_type": "code",
   "execution_count": 14,
   "metadata": {},
   "outputs": [],
   "source": [
    "def train_epoch(pbar):\n",
    "    pbar.total = len(X_train)\n",
    "    train_loss = 0\n",
    "    num_train_samples = 0\n",
    "    model.train()\n",
    "    for X, y in data_loader((X_train, y_train), batch_size, True):\n",
    "        loss = loss_fn(model(prepare_inputs(X)), y)\n",
    "\n",
    "        optim.zero_grad()\n",
    "        model.backward(loss_fn.backward(None))\n",
    "        optim.step()\n",
    "\n",
    "        train_loss += (loss * len(X)).item()\n",
    "        num_train_samples += len(X)\n",
    "        pbar.update(len(X))\n",
    "        pbar.set_postfix({\"train_loss\": train_loss / num_train_samples})\n",
    "        \n",
    "    return train_loss / num_train_samples\n",
    "        \n",
    "\n",
    "def evaluate(pbar, data):\n",
    "    X_val, y_val = data\n",
    "    pbar.total = len(X_val)\n",
    "    val_loss = 0\n",
    "    num_val_samples = 0\n",
    "    preds = []\n",
    "    model.eval()\n",
    "    for X, y in data_loader((X_val, y_val), batch_size, False):\n",
    "        outputs = model(prepare_inputs(X))\n",
    "        loss = loss_fn(outputs, y)\n",
    "        preds += outputs.argmax(axis=-1).tolist()\n",
    "\n",
    "        val_loss += (loss * len(X)).item()\n",
    "        num_val_samples += len(X)\n",
    "        pbar.update(len(X))\n",
    "        pbar.set_postfix({\"val_loss\": val_loss / num_val_samples, \"accuracy\": accuracy(np.asarray(preds), y_val[:num_val_samples])})\n",
    "        \n",
    "    return val_loss / num_val_samples, accuracy(np.asarray(preds), y_val[:num_val_samples])"
   ]
  },
  {
   "cell_type": "code",
   "execution_count": null,
   "metadata": {},
   "outputs": [
    {
     "data": {
      "application/vnd.jupyter.widget-view+json": {
       "model_id": "084a12a7656a432fbbf00931dca2efea",
       "version_major": 2,
       "version_minor": 0
      },
      "text/plain": [
       "0it [00:00, ?it/s]"
      ]
     },
     "metadata": {},
     "output_type": "display_data"
    },
    {
     "name": "stdout",
     "output_type": "stream",
     "text": [
      "Initial: val_loss=4.00621896929939, 0.060833333333333336\n",
      "Epoch 0: train_loss=2.2835132360534156, val_loss=1.661167688462468, val_accuracy=0.418\n",
      "Epoch 1: train_loss=1.3961411181484893, val_loss=1.2439830509219345, val_accuracy=0.5451666666666667\n",
      "Epoch 2: train_loss=1.143202313113388, val_loss=1.1004027366007079, val_accuracy=0.5965\n",
      "Epoch 3: train_loss=1.022003044698603, val_loss=0.9865482603583456, val_accuracy=0.6475\n",
      "Epoch 4: train_loss=0.9329005380928195, val_loss=0.9187515311913101, val_accuracy=0.6586666666666666\n",
      "Epoch 5: train_loss=0.8718313184794044, val_loss=0.8776020944520495, val_accuracy=0.6823333333333333\n",
      "Epoch 6: train_loss=0.8327341427861701, val_loss=0.8241069686160325, val_accuracy=0.7005\n",
      "Epoch 7: train_loss=0.798864151270844, val_loss=0.7944806313404346, val_accuracy=0.7091666666666666\n",
      "Epoch 8: train_loss=0.7695659465658922, val_loss=0.76906446629187, val_accuracy=0.7166666666666667\n",
      "Epoch 9: train_loss=0.7499503236078366, val_loss=0.7424948468906541, val_accuracy=0.728\n",
      "Epoch 10: train_loss=0.729851134497984, val_loss=0.7345294683256672, val_accuracy=0.7303333333333333\n",
      "Epoch 11: train_loss=0.7133038623562906, val_loss=0.7064482142940527, val_accuracy=0.7451666666666666\n",
      "Epoch 12: train_loss=0.6946749516978329, val_loss=0.6927831909981506, val_accuracy=0.7478333333333333\n",
      "Epoch 13: train_loss=0.6842564646195674, val_loss=0.6846085343453815, val_accuracy=0.749\n",
      "Epoch 14: train_loss=0.6710580415172684, val_loss=0.6674074776548057, val_accuracy=0.7556666666666667\n",
      "Epoch 15: train_loss=0.6652584845994872, val_loss=0.6575571902492264, val_accuracy=0.7643333333333333\n",
      "Epoch 16: train_loss=0.6504200883692464, val_loss=0.6495114513781434, val_accuracy=0.7641666666666667\n"
     ]
    }
   ],
   "source": [
    "with tqdm() as pbar:\n",
    "    pbar.set_description(\"Val\")\n",
    "    val_loss, val_accuracy = evaluate(pbar, (X_val, y_val))\n",
    "    print(f\"Initial: {val_loss=}, {val_accuracy}\")\n",
    "    \n",
    "    for epoch in range(num_epochs):\n",
    "        pbar.set_description(\"Train\")\n",
    "        train_loss = train_epoch(pbar)\n",
    "\n",
    "        pbar.set_description(\"Val\")\n",
    "        val_loss, val_accuracy = evaluate(pbar, (X_val, y_val))\n",
    "        \n",
    "        print(f\"Epoch {epoch}: {train_loss=}, {val_loss=}, {val_accuracy=}\")\n",
    "\n",
    "    pbar.set_description(\"Test\")\n",
    "    test_loss, test_accuracy = evaluate(pbar, (X_test, y_test))\n",
    "    \n",
    "print(f\"Test accuracy: {test_loss=}, {test_accuracy}\")"
   ]
  },
  {
   "cell_type": "code",
   "execution_count": null,
   "metadata": {},
   "outputs": [
    {
     "name": "stdout",
     "output_type": "stream",
     "text": [
      "Test accuracy: test_loss=0.4784127562542733, 0.8472\n"
     ]
    }
   ],
   "source": [
    "model.eval()\n",
    "test_loss, test_accuracy = evaluate(pbar, (X_test, y_test))\n",
    "print(f\"Test accuracy: {test_loss=}, {test_accuracy}\")"
   ]
  },
  {
   "cell_type": "code",
   "execution_count": null,
   "metadata": {},
   "outputs": [
    {
     "name": "stdout",
     "output_type": "stream",
     "text": [
      "Test accuracy: test_loss=0.47071992227254966, 0.8447\n"
     ]
    }
   ],
   "source": [
    "model.train()\n",
    "test_loss, test_accuracy = evaluate(pbar, (X_test, y_test))\n",
    "print(f\"Test accuracy: {test_loss=}, {test_accuracy}\")"
   ]
  }
 ],
 "metadata": {
  "kernelspec": {
   "display_name": "deep_learning",
   "language": "python",
   "name": "python3"
  },
  "language_info": {
   "codemirror_mode": {
    "name": "ipython",
    "version": 3
   },
   "file_extension": ".py",
   "mimetype": "text/x-python",
   "name": "python",
   "nbconvert_exporter": "python",
   "pygments_lexer": "ipython3",
   "version": "3.11.3"
  }
 },
 "nbformat": 4,
 "nbformat_minor": 2
}

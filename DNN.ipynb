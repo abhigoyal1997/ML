{
 "cells": [
  {
   "cell_type": "code",
   "execution_count": 1,
   "metadata": {},
   "outputs": [],
   "source": [
    "import sys\n",
    "sys.path.append('fashion-mnist')\n",
    "\n",
    "from utils.mnist_reader import load_mnist\n",
    "\n",
    "X_train, y_train = load_mnist('fashion-mnist/data/fashion', kind='train')\n",
    "X_test, y_test = load_mnist('fashion-mnist/data/fashion', kind='t10k')"
   ]
  },
  {
   "cell_type": "code",
   "execution_count": 2,
   "metadata": {},
   "outputs": [],
   "source": [
    "import numpy as np\n",
    "import seaborn as sns\n",
    "from random import shuffle\n",
    "from typing import Dict, List, Tuple\n",
    "from tqdm.notebook import tqdm"
   ]
  },
  {
   "cell_type": "code",
   "execution_count": 3,
   "metadata": {},
   "outputs": [
    {
     "name": "stdout",
     "output_type": "stream",
     "text": [
      "(54000, 784) (54000,)\n",
      "(6000, 784) (6000,)\n",
      "(10000, 784) (10000,)\n"
     ]
    }
   ],
   "source": [
    "val_size = int(len(X_train)*0.1)\n",
    "\n",
    "idx = np.arange(len(X_train))\n",
    "shuffle(idx)\n",
    "X_train, y_train = X_train[idx], y_train[idx]\n",
    "X_val, y_val = X_train[:val_size], y_train[:val_size]\n",
    "X_train, y_train = X_train[val_size:], y_train[val_size:]\n",
    "\n",
    "print(X_train.shape, y_train.shape)\n",
    "print(X_val.shape, y_val.shape)\n",
    "print(X_test.shape, y_test.shape)"
   ]
  },
  {
   "cell_type": "code",
   "execution_count": 4,
   "metadata": {},
   "outputs": [
    {
     "data": {
      "text/plain": [
       "<Axes: >"
      ]
     },
     "execution_count": 4,
     "metadata": {},
     "output_type": "execute_result"
    },
    {
     "data": {
      "image/png": "[encoded data removed]",
      "text/plain": [
       "<Figure size 640x480 with 2 Axes>"
      ]
     },
     "metadata": {},
     "output_type": "display_data"
    }
   ],
   "source": [
    "sns.heatmap(X_train[np.random.randint(len(X_train))].reshape(28, 28))"
   ]
  },
  {
   "cell_type": "code",
   "execution_count": 5,
   "metadata": {},
   "outputs": [],
   "source": [
    "def data_loader(data: Tuple, batch_size: int, train: bool=False):\n",
    "    if train:\n",
    "        idx = np.arange(len(X_train))\n",
    "        shuffle(idx)\n",
    "        data = [x[idx] for x in data]\n",
    "        \n",
    "    for i in range(0, len(data[0]), batch_size):\n",
    "        yield tuple(x[i:i+batch_size] for x in data)\n",
    "        \n",
    "def prepare_inputs(X: np.ndarray):\n",
    "    return (X / 255) - 0.5"
   ]
  },
  {
   "cell_type": "code",
   "execution_count": 6,
   "metadata": {},
   "outputs": [],
   "source": [
    "class Parameter:\n",
    "    def __init__(self, data: np.ndarray, grad: np.ndarray=None):\n",
    "        self.data = data\n",
    "        self.grad = grad\n",
    "        \n",
    "    def __repr__(self):\n",
    "        return f\"Parameter(data={self.data}, grad={self.grad})\"\n",
    "\n",
    "class Module:\n",
    "    def __init__(self, **parameters: Dict[str, Parameter]):\n",
    "        self.parameters: Dict[str, Parameter] = parameters\n",
    "    \n",
    "    def __call__(self, *inputs):\n",
    "        self._inputs = inputs\n",
    "        self._outputs = self.forward(*inputs)\n",
    "        return self._outputs"
   ]
  },
  {
   "cell_type": "code",
   "execution_count": 22,
   "metadata": {},
   "outputs": [],
   "source": [
    "class Linear(Module):\n",
    "    def __init__(self, input_features: int, output_features: int):\n",
    "        self.w = Parameter(np.random.randn(input_features, output_features) * np.sqrt(2 / input_features))\n",
    "        self.b = Parameter(np.zeros(output_features))\n",
    "        super().__init__(w=self.w, b=self.b)\n",
    "        \n",
    "    def forward(self, X: np.ndarray) -> np.ndarray:\n",
    "        return X @ self.w.data + self.b.data\n",
    "    \n",
    "    def backward(self, grad_output: np.ndarray):\n",
    "        X = self._inputs[0]\n",
    "        self.w.grad = X.T @ grad_output\n",
    "        self.b.grad = grad_output.sum(axis=0)\n",
    "        return grad_output @ self.w.data.T\n",
    "    \n",
    "    def __repr__(self):\n",
    "        return f\"Linear({self.w.data.shape[0]},{self.w.data.shape[1]})\"\n",
    "    \n",
    "class ReLU(Module):\n",
    "    def forward(self, X: np.ndarray) -> np.ndarray:\n",
    "        self._mask = X > 0\n",
    "        return X * self._mask\n",
    "    \n",
    "    def backward(self, grad_output: np.ndarray):\n",
    "        return grad_output * self._mask\n",
    "    \n",
    "    def __repr__(self):\n",
    "        return f\"ReLU()\"\n",
    "    \n",
    "class ResBlock(Module):\n",
    "    def __init__(self, hidden_size: int):\n",
    "        self.linear = Linear(hidden_size, hidden_size)\n",
    "        self.relu = ReLU()\n",
    "        super().__init__(**self.linear.parameters)\n",
    "        \n",
    "    def forward(self, X: np.ndarray) -> np.ndarray:\n",
    "        return self.relu(self.linear(X)) + X\n",
    "    \n",
    "    def backward(self, grad_output: np.ndarray) -> np.ndarray:\n",
    "        return self.linear.backward(self.relu.backward(grad_output)) + grad_output\n",
    "    \n",
    "    def __repr__(self):\n",
    "        return f\"ResBlock({self.linear},{self.relu})\"\n",
    "    \n",
    "class Model(Module):\n",
    "    def __init__(self, input_features: int, num_classes: int, hidden_sizes: List[int]):\n",
    "        self.layers = [Linear(input_features, hidden_sizes[0]), ReLU()] + \\\n",
    "            [ResBlock(h) for h in hidden_sizes] + [Linear(hidden_sizes[-1], num_classes)]\n",
    "\n",
    "        parameters = {}\n",
    "        for i, layer in enumerate(self.layers):\n",
    "            parameters.update({f\"layers.{i}.{k}\": v for k,v in layer.parameters.items()})\n",
    "\n",
    "        super().__init__(**parameters)\n",
    "        \n",
    "    def forward(self, X: np.ndarray) -> np.ndarray:\n",
    "        h = self.layers[0](X)\n",
    "        for layer in self.layers[1:-1]:\n",
    "            h = layer(h)\n",
    "\n",
    "        return self.layers[-1](h)\n",
    "    \n",
    "    def backward(self, grad_output: np.ndarray) -> np.ndarray:\n",
    "        for layer in self.layers[::-1]:\n",
    "            grad_output = layer.backward(grad_output)\n",
    "            \n",
    "        return grad_output\n",
    "    \n",
    "    def __repr__(self):\n",
    "        layers = \"\\n\".join([repr(layer) for layer in self.layers])\n",
    "        return \"Model([\\n\" + \",\\n\".join([\"\\t\"+layer for layer in layers.split(\"\\n\")]) + \"\\n])\""
   ]
  },
  {
   "cell_type": "code",
   "execution_count": 23,
   "metadata": {},
   "outputs": [],
   "source": [
    "def softmax(z: np.ndarray) -> np.ndarray:\n",
    "    ez = np.exp(z - z.max(axis=-1, keepdims=True))\n",
    "    return ez / ez.sum(axis=-1, keepdims=True)\n",
    "\n",
    "def accuracy(preds: np.ndarray, targets: np.ndarray) -> float:\n",
    "    return (preds == targets).mean().item()"
   ]
  },
  {
   "cell_type": "code",
   "execution_count": 24,
   "metadata": {},
   "outputs": [],
   "source": [
    "class Loss(Module):\n",
    "    def forward(self, logits: np.ndarray, y: np.ndarray) -> np.ndarray:\n",
    "        logits -= logits.max(axis=-1, keepdims=True)\n",
    "        return (np.log(np.sum(np.exp(logits), axis=-1)) - logits[np.arange(len(y)), y]).mean()\n",
    "    \n",
    "    def backward(self, _) -> np.ndarray:\n",
    "        logits, y = self._inputs\n",
    "        grads = softmax(logits)\n",
    "        grads[np.arange(len(y)), y] -= 1\n",
    "        return grads / len(y)"
   ]
  },
  {
   "cell_type": "code",
   "execution_count": 25,
   "metadata": {},
   "outputs": [],
   "source": [
    "class SGD:\n",
    "    def __init__(self, params: List[Parameter], lr: float, weight_decay: float=0.0, max_grad_norm: float=1.0):\n",
    "        self.params = params\n",
    "        self.lr = lr\n",
    "        self.weight_decay = weight_decay\n",
    "        self.max_grad_norm = max_grad_norm\n",
    "        \n",
    "    def step(self):\n",
    "        for param in self.params:\n",
    "            param.grad *= self.max_grad_norm / max(self.max_grad_norm, (param.grad ** 2).sum())\n",
    "            param.data -= self.lr * (param.grad + self.weight_decay * param.data)\n",
    "            \n",
    "    def zero_grad(self):\n",
    "        for param in self.params:\n",
    "            param.grad = None"
   ]
  },
  {
   "cell_type": "code",
   "execution_count": 32,
   "metadata": {},
   "outputs": [],
   "source": [
    "input_features = 784\n",
    "output_classes = 10\n",
    "hidden_sizes = [32,32]\n",
    "batch_size = 32\n",
    "lr = 0.03\n",
    "weight_decay = 0.0\n",
    "num_epochs = 40\n",
    "\n",
    "model = Model(input_features, output_classes, hidden_sizes)\n",
    "loss_fn = Loss()\n",
    "optim = SGD(list(model.parameters.values()), lr=lr, weight_decay=weight_decay)"
   ]
  },
  {
   "cell_type": "code",
   "execution_count": null,
   "metadata": {},
   "outputs": [],
   "source": [
    "def train_epoch(pbar):\n",
    "    pbar.total = len(X_train)\n",
    "    train_loss = 0\n",
    "    num_train_samples = 0\n",
    "    for X, y in data_loader((X_train, y_train), batch_size, True):\n",
    "        loss = loss_fn(model(prepare_inputs(X)), y)\n",
    "\n",
    "        optim.zero_grad()\n",
    "        model.backward(loss_fn.backward(None))\n",
    "        optim.step()\n",
    "\n",
    "        train_loss += (loss * len(X)).item()\n",
    "        num_train_samples += len(X)\n",
    "        pbar.update(len(X))\n",
    "        pbar.set_postfix({\"train_loss\": train_loss / num_train_samples})\n",
    "        \n",
    "    return train_loss / num_train_samples\n",
    "        \n",
    "\n",
    "def evaluate(pbar, data):\n",
    "    X_val, y_val = data\n",
    "    pbar.total = len(X_val)\n",
    "    val_loss = 0\n",
    "    num_val_samples = 0\n",
    "    preds = []\n",
    "    for X, y in data_loader((X_val, y_val), batch_size, False):\n",
    "        outputs = model(prepare_inputs(X))\n",
    "        loss = loss_fn(outputs, y)\n",
    "        preds += outputs.argmax(axis=-1).tolist()\n",
    "\n",
    "        val_loss += (loss * len(X)).item()\n",
    "        num_val_samples += len(X)\n",
    "        pbar.update(len(X))\n",
    "        pbar.set_postfix({\"val_loss\": val_loss / num_val_samples, \"accuracy\": accuracy(np.asarray(preds), y_val[:num_val_samples])})\n",
    "        \n",
    "    return val_loss / num_val_samples, accuracy(np.asarray(preds), y_val[:num_val_samples])"
   ]
  },
  {
   "cell_type": "code",
   "execution_count": 35,
   "metadata": {},
   "outputs": [
    {
     "data": {
      "application/vnd.jupyter.widget-view+json": {
       "model_id": "89be014b76b34bc0940011350fd667c6",
       "version_major": 2,
       "version_minor": 0
      },
      "text/plain": [
       "0it [00:00, ?it/s]"
      ]
     },
     "metadata": {},
     "output_type": "display_data"
    },
    {
     "name": "stdout",
     "output_type": "stream",
     "text": [
      "Initial: val_loss=0.3663311064347545, 0.8701666666666666\n",
      "Epoch 0: train_loss=0.2853245800563215, val_loss=0.36498985993305516, val_accuracy=0.8731666666666666\n",
      "Epoch 1: train_loss=0.28470911697024104, val_loss=0.36356583861857483, val_accuracy=0.872\n",
      "Epoch 2: train_loss=0.2833352270736353, val_loss=0.3562744764689848, val_accuracy=0.8736666666666667\n",
      "Epoch 3: train_loss=0.28390753475668234, val_loss=0.35040102503822174, val_accuracy=0.875\n",
      "Epoch 4: train_loss=0.2816372452651182, val_loss=0.3788238862851262, val_accuracy=0.8688333333333333\n",
      "Epoch 5: train_loss=0.27914685551554874, val_loss=0.36196162799992815, val_accuracy=0.872\n",
      "Epoch 6: train_loss=0.28087511396078535, val_loss=0.36863176319677315, val_accuracy=0.8718333333333333\n",
      "Epoch 7: train_loss=0.27761957819751737, val_loss=0.35810518047762313, val_accuracy=0.8748333333333334\n",
      "Epoch 8: train_loss=0.27559195558923893, val_loss=0.3634747356293837, val_accuracy=0.8725\n",
      "Epoch 9: train_loss=0.27494500299612484, val_loss=0.37104402306651224, val_accuracy=0.872\n",
      "Epoch 10: train_loss=0.2750535355726697, val_loss=0.3670121359717727, val_accuracy=0.8746666666666667\n",
      "Epoch 11: train_loss=0.2744850669455955, val_loss=0.34824971645504815, val_accuracy=0.8811666666666667\n",
      "Epoch 12: train_loss=0.2733811315230093, val_loss=0.39175304400373806, val_accuracy=0.8643333333333333\n",
      "Epoch 13: train_loss=0.2715857780221462, val_loss=0.36294190750238475, val_accuracy=0.8723333333333333\n",
      "Epoch 14: train_loss=0.27143091422438875, val_loss=0.36444584940723945, val_accuracy=0.8713333333333333\n",
      "Epoch 15: train_loss=0.2692812322563405, val_loss=0.37716396219548015, val_accuracy=0.8725\n",
      "Epoch 16: train_loss=0.2696311286875248, val_loss=0.37785337823283666, val_accuracy=0.8725\n",
      "Epoch 17: train_loss=0.2694317515787542, val_loss=0.34947407462351066, val_accuracy=0.8778333333333334\n",
      "Epoch 18: train_loss=0.26740127678196945, val_loss=0.3901141426353354, val_accuracy=0.8693333333333333\n",
      "Epoch 19: train_loss=0.2682269970453228, val_loss=0.36561553994276536, val_accuracy=0.872\n",
      "Epoch 20: train_loss=0.2671397204099331, val_loss=0.35938171313503775, val_accuracy=0.8793333333333333\n",
      "Epoch 21: train_loss=0.26682622064315764, val_loss=0.36099281339763045, val_accuracy=0.879\n",
      "Epoch 22: train_loss=0.26646902319014254, val_loss=0.37073575305162454, val_accuracy=0.8735\n",
      "Epoch 23: train_loss=0.26510805944127724, val_loss=0.34874547881137596, val_accuracy=0.8811666666666667\n",
      "Epoch 24: train_loss=0.26370861253246486, val_loss=0.36214472285499566, val_accuracy=0.8768333333333334\n",
      "Epoch 25: train_loss=0.2613861030962995, val_loss=0.3519819015368469, val_accuracy=0.8793333333333333\n",
      "Epoch 26: train_loss=0.2605450718598921, val_loss=0.3654166617151953, val_accuracy=0.8725\n",
      "Epoch 27: train_loss=0.2604099332439654, val_loss=0.37319124052470065, val_accuracy=0.8756666666666667\n",
      "Epoch 28: train_loss=0.25942031718350844, val_loss=0.3514422604406791, val_accuracy=0.8818333333333334\n",
      "Epoch 29: train_loss=0.258804700829885, val_loss=0.3629679719399764, val_accuracy=0.8778333333333334\n",
      "Epoch 30: train_loss=0.25740568608778885, val_loss=0.3676800795831992, val_accuracy=0.8718333333333333\n",
      "Epoch 31: train_loss=0.25565208263126954, val_loss=0.36260123420976703, val_accuracy=0.8756666666666667\n",
      "Epoch 32: train_loss=0.2539148565753529, val_loss=0.35944879541695784, val_accuracy=0.8775\n",
      "Epoch 33: train_loss=0.2541537676258259, val_loss=0.3571688502488475, val_accuracy=0.8763333333333333\n",
      "Epoch 34: train_loss=0.2543663539931935, val_loss=0.3573841244177202, val_accuracy=0.8781666666666667\n",
      "Epoch 35: train_loss=0.25339872953466386, val_loss=0.37658087134319357, val_accuracy=0.8753333333333333\n",
      "Epoch 36: train_loss=0.25364533612924806, val_loss=0.3475470505375715, val_accuracy=0.8805\n",
      "Epoch 37: train_loss=0.2517386788375642, val_loss=0.3420105396713408, val_accuracy=0.8841666666666667\n",
      "Epoch 38: train_loss=0.2503140016110153, val_loss=0.3902711590382701, val_accuracy=0.8686666666666667\n",
      "Epoch 39: train_loss=0.2503177151696216, val_loss=0.3693409617357669, val_accuracy=0.8765\n",
      "Test accuracy: test_loss=0.3959370462359503, 0.8711\n"
     ]
    }
   ],
   "source": [
    "with tqdm() as pbar:\n",
    "    pbar.set_description(\"Val\")\n",
    "    val_loss, val_accuracy = evaluate(pbar, (X_val, y_val))\n",
    "    print(f\"Initial: {val_loss=}, {val_accuracy}\")\n",
    "    \n",
    "    for epoch in range(num_epochs):\n",
    "        pbar.set_description(\"Train\")\n",
    "        train_loss = train_epoch(pbar)\n",
    "\n",
    "        pbar.set_description(\"Val\")\n",
    "        val_loss, val_accuracy = evaluate(pbar, (X_val, y_val))\n",
    "        \n",
    "        print(f\"Epoch {epoch}: {train_loss=}, {val_loss=}, {val_accuracy=}\")\n",
    "\n",
    "    pbar.set_description(\"Test\")\n",
    "    test_loss, test_accuracy = evaluate(pbar, (X_test, y_test))\n",
    "    \n",
    "print(f\"Test accuracy: {test_loss=}, {test_accuracy}\")"
   ]
  }
 ],
 "metadata": {
  "kernelspec": {
   "display_name": "deep_learning",
   "language": "python",
   "name": "python3"
  },
  "language_info": {
   "codemirror_mode": {
    "name": "ipython",
    "version": 3
   },
   "file_extension": ".py",
   "mimetype": "text/x-python",
   "name": "python",
   "nbconvert_exporter": "python",
   "pygments_lexer": "ipython3",
   "version": "3.11.3"
  }
 },
 "nbformat": 4,
 "nbformat_minor": 2
}

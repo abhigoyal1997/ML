{
 "cells": [
  {
   "cell_type": "code",
   "execution_count": 5,
   "metadata": {},
   "outputs": [],
   "source": [
    "import sys\n",
    "sys.path.append('fashion-mnist')\n",
    "\n",
    "from utils.mnist_reader import load_mnist\n",
    "\n",
    "X_train, y_train = load_mnist('fashion-mnist/data/fashion', kind='train')\n",
    "X_test, y_test = load_mnist('fashion-mnist/data/fashion', kind='t10k')"
   ]
  },
  {
   "cell_type": "code",
   "execution_count": 6,
   "metadata": {},
   "outputs": [],
   "source": [
    "import numpy as np\n",
    "import seaborn as sns\n",
    "from random import shuffle\n",
    "from typing import Dict, List, Tuple\n",
    "from tqdm.notebook import tqdm"
   ]
  },
  {
   "cell_type": "code",
   "execution_count": 7,
   "metadata": {},
   "outputs": [
    {
     "name": "stdout",
     "output_type": "stream",
     "text": [
      "(54000, 784) (54000,)\n",
      "(6000, 784) (6000,)\n",
      "(10000, 784) (10000,)\n"
     ]
    }
   ],
   "source": [
    "val_size = int(len(X_train)*0.1)\n",
    "\n",
    "idx = np.arange(len(X_train))\n",
    "shuffle(idx)\n",
    "X_train, y_train = X_train[idx], y_train[idx]\n",
    "X_val, y_val = X_train[:val_size], y_train[:val_size]\n",
    "X_train, y_train = X_train[val_size:], y_train[val_size:]\n",
    "\n",
    "print(X_train.shape, y_train.shape)\n",
    "print(X_val.shape, y_val.shape)\n",
    "print(X_test.shape, y_test.shape)"
   ]
  },
  {
   "cell_type": "code",
   "execution_count": 8,
   "metadata": {},
   "outputs": [
    {
     "data": {
      "text/plain": [
       "<Axes: >"
      ]
     },
     "execution_count": 8,
     "metadata": {},
     "output_type": "execute_result"
    },
    {
     "data": {
      "image/png": "[encoded data removed]",
      "text/plain": [
       "<Figure size 640x480 with 2 Axes>"
      ]
     },
     "metadata": {},
     "output_type": "display_data"
    }
   ],
   "source": [
    "sns.heatmap(X_train[np.random.randint(len(X_train))].reshape(28, 28))"
   ]
  },
  {
   "cell_type": "code",
   "execution_count": 9,
   "metadata": {},
   "outputs": [],
   "source": [
    "def data_loader(data: Tuple, batch_size: int, train: bool=False):\n",
    "    if train:\n",
    "        idx = np.arange(len(X_train))\n",
    "        shuffle(idx)\n",
    "        data = [x[idx] for x in data]\n",
    "        \n",
    "    for i in range(0, len(data[0]), batch_size):\n",
    "        yield tuple(x[i:i+batch_size] for x in data)\n",
    "        \n",
    "def prepare_inputs(X: np.ndarray):\n",
    "    return (X / 255) - 0.5"
   ]
  },
  {
   "cell_type": "code",
   "execution_count": 10,
   "metadata": {},
   "outputs": [],
   "source": [
    "class Parameter:\n",
    "    def __init__(self, data: np.ndarray, grad: np.ndarray=None):\n",
    "        self.data = data\n",
    "        self.grad = grad\n",
    "        \n",
    "    def __repr__(self):\n",
    "        return f\"Parameter(data={self.data}, grad={self.grad})\"\n",
    "\n",
    "class Module:\n",
    "    def __init__(self, **parameters: Dict[str, Parameter]):\n",
    "        self.parameters: Dict[str, Parameter] = parameters\n",
    "    \n",
    "    def __call__(self, *inputs):\n",
    "        self._inputs = inputs\n",
    "        self._outputs = self.forward(*inputs)\n",
    "        return self._outputs"
   ]
  },
  {
   "cell_type": "code",
   "execution_count": 11,
   "metadata": {},
   "outputs": [],
   "source": [
    "class Linear(Module):\n",
    "    def __init__(self, input_features: int, output_features: int):\n",
    "        self.w = Parameter(np.random.randn(input_features, output_features) * 0.01)\n",
    "        self.b = Parameter(np.zeros(output_features))\n",
    "        super().__init__(w=self.w, b=self.b)\n",
    "        \n",
    "    def forward(self, X: np.ndarray) -> np.ndarray:\n",
    "        return X @ self.w.data + self.b.data\n",
    "    \n",
    "    def backward(self, grad_output: np.ndarray):\n",
    "        X = self._inputs[0]\n",
    "        self.w.grad = X.T @ grad_output\n",
    "        self.b.grad = grad_output.sum(axis=0)\n",
    "        return grad_output @ self.w.data.T\n",
    "    \n",
    "    def __repr__(self):\n",
    "        return f\"Linear({self.w.data.shape[0]},{self.w.data.shape[1]})\"\n",
    "    \n",
    "class ReLU(Module):\n",
    "    def forward(self, X: np.ndarray) -> np.ndarray:\n",
    "        return np.clip(X, 0, None)\n",
    "    \n",
    "    def backward(self, grad_output: np.ndarray):\n",
    "        X = self._inputs[0]\n",
    "        return np.astype(X > 0, float) * grad_output\n",
    "    \n",
    "    def __repr__(self):\n",
    "        return f\"ReLU()\"\n",
    "    \n",
    "class Model(Module):\n",
    "    def __init__(self, input_features: int, num_classes: int, hidden_sizes: List[int]):\n",
    "        self.layers = [Linear(input_features, hidden_sizes[0])]\n",
    "        \n",
    "        input_features = hidden_sizes\n",
    "        output_features = hidden_sizes[1:] + [num_classes]\n",
    "        for i,o in zip(input_features, output_features):\n",
    "            self.layers += [ReLU(), Linear(i, o)]\n",
    "\n",
    "        parameters = {}\n",
    "        for i, layer in enumerate(self.layers):\n",
    "            parameters.update({f\"layers.{i}.{k}\": v for k,v in layer.parameters.items()})\n",
    "\n",
    "        super().__init__(**parameters)\n",
    "        \n",
    "    def forward(self, X: np.ndarray) -> np.ndarray:\n",
    "        h = self.layers[0](X)\n",
    "        for layer in self.layers[1:-1]:\n",
    "            h = h + layer(h)\n",
    "\n",
    "        return self.layers[-1](h)\n",
    "    \n",
    "    def backward(self, grad_output: np.ndarray):\n",
    "        grad_output = self.layers[-1].backward(grad_output)\n",
    "        \n",
    "        for layer in self.layers[1:-1][::-1]:\n",
    "            grad_output = layer.backward(grad_output) + grad_output\n",
    "            \n",
    "        return self.layers[0].backward(grad_output)\n",
    "    \n",
    "    def __repr__(self):\n",
    "        layers = \"\\n\".join([repr(layer) for layer in self.layers])\n",
    "        return \"Model([\\n\" + \",\\n\".join([\"\\t\"+layer for layer in layers.split(\"\\n\")]) + \"\\n])\""
   ]
  },
  {
   "cell_type": "code",
   "execution_count": 12,
   "metadata": {},
   "outputs": [],
   "source": [
    "def softmax(z: np.ndarray) -> np.ndarray:\n",
    "    ez = np.exp(z - z.max(axis=-1, keepdims=True))\n",
    "    return ez / ez.sum(axis=-1, keepdims=True)\n",
    "\n",
    "def accuracy(preds: np.ndarray, targets: np.ndarray) -> float:\n",
    "    return (preds == targets).mean().item()"
   ]
  },
  {
   "cell_type": "code",
   "execution_count": 13,
   "metadata": {},
   "outputs": [],
   "source": [
    "class Loss(Module):\n",
    "    def forward(self, logits: np.ndarray, y: np.ndarray) -> np.ndarray:\n",
    "        logits -= logits.max(axis=-1, keepdims=True)\n",
    "        return (np.log(np.sum(np.exp(logits), axis=-1)) - logits[np.arange(len(y)), y]).mean()\n",
    "    \n",
    "    def backward(self, _) -> np.ndarray:\n",
    "        logits, y = self._inputs\n",
    "        grads = softmax(logits)\n",
    "        grads[np.arange(len(y)), y] -= 1\n",
    "        return grads / len(y)"
   ]
  },
  {
   "cell_type": "code",
   "execution_count": 14,
   "metadata": {},
   "outputs": [],
   "source": [
    "class SGD:\n",
    "    def __init__(self, params: List[Parameter], lr: float, weight_decay: float=0.0, max_grad_norm: float=1.0):\n",
    "        self.params = params\n",
    "        self.lr = lr\n",
    "        self.weight_decay = weight_decay\n",
    "        self.max_grad_norm = max_grad_norm\n",
    "        \n",
    "    def step(self):\n",
    "        for param in self.params:\n",
    "            param.grad *= self.max_grad_norm / max(self.max_grad_norm, (param.grad ** 2).sum())\n",
    "            param.data -= self.lr * (param.grad + self.weight_decay * param.data)\n",
    "            \n",
    "    def zero_grad(self):\n",
    "        for param in self.params:\n",
    "            param.grad = None"
   ]
  },
  {
   "cell_type": "code",
   "execution_count": 27,
   "metadata": {},
   "outputs": [],
   "source": [
    "input_features = 784\n",
    "output_classes = 10\n",
    "hidden_sizes = [32,32,32,32,32,32,32]\n",
    "batch_size = 32\n",
    "lr = 0.05\n",
    "weight_decay = 0.0\n",
    "num_epochs = 40\n",
    "\n",
    "model = Model(input_features, output_classes, hidden_sizes)\n",
    "loss_fn = Loss()\n",
    "optim = SGD(list(model.parameters.values()), lr=lr, weight_decay=weight_decay)"
   ]
  },
  {
   "cell_type": "code",
   "execution_count": 28,
   "metadata": {},
   "outputs": [],
   "source": [
    "def train_epoch(pbar):\n",
    "    pbar.total = len(X_train)\n",
    "    train_loss = 0\n",
    "    num_train_samples = 0\n",
    "    for X, y in data_loader((X_train, y_train), batch_size, True):\n",
    "        loss = loss_fn(model(prepare_inputs(X)), y)\n",
    "\n",
    "        optim.zero_grad()\n",
    "        model.backward(loss_fn.backward(None))\n",
    "        optim.step()\n",
    "\n",
    "        train_loss += (loss * len(X)).item()\n",
    "        num_train_samples += len(X)\n",
    "        pbar.update(len(X))\n",
    "        pbar.set_postfix({\"train_loss\": train_loss / num_train_samples})\n",
    "        \n",
    "    return train_loss / num_train_samples\n",
    "        \n",
    "\n",
    "def evaluate(pbar, data):\n",
    "    X_val, y_val = data\n",
    "    pbar.total = len(X_val)\n",
    "    val_loss = 0\n",
    "    num_val_samples = 0\n",
    "    preds = []\n",
    "    for X, y in data_loader((X_val, y_val), batch_size, False):\n",
    "        outputs = model(prepare_inputs(X))\n",
    "        loss = loss_fn(outputs, y)\n",
    "        preds += outputs.argmax(axis=-1).tolist()\n",
    "\n",
    "        val_loss += (loss * len(X)).item()\n",
    "        num_val_samples += len(X)\n",
    "        pbar.update(len(X))\n",
    "        pbar.set_postfix({\"val_loss\": val_loss / num_val_samples, \"accuracy\": accuracy(np.asarray(preds), y_val[:num_val_samples])})\n",
    "        \n",
    "    return val_loss / num_val_samples, accuracy(np.asarray(preds), y_val[:num_val_samples])"
   ]
  },
  {
   "cell_type": "code",
   "execution_count": 29,
   "metadata": {},
   "outputs": [
    {
     "data": {
      "application/vnd.jupyter.widget-view+json": {
       "model_id": "f648a09568c9436990b2755bc008293c",
       "version_major": 2,
       "version_minor": 0
      },
      "text/plain": [
       "0it [00:00, ?it/s]"
      ]
     },
     "metadata": {},
     "output_type": "display_data"
    },
    {
     "name": "stdout",
     "output_type": "stream",
     "text": [
      "Initial: val_loss=2.5441713825641377, 0.09516666666666666\n",
      "Epoch 0: train_loss=0.6641111048589131, val_loss=0.5409342334950126, val_accuracy=0.8021666666666667\n",
      "Epoch 1: train_loss=0.5092385107922752, val_loss=0.5310661647798778, val_accuracy=0.815\n",
      "Epoch 2: train_loss=0.4827435280977129, val_loss=0.5409944881063862, val_accuracy=0.815\n",
      "Epoch 3: train_loss=0.46626338864893396, val_loss=0.47722730301511646, val_accuracy=0.835\n",
      "Epoch 4: train_loss=0.45266222238006265, val_loss=0.448511722253066, val_accuracy=0.836\n",
      "Epoch 5: train_loss=0.43523509309032904, val_loss=0.514864702741892, val_accuracy=0.8191666666666667\n",
      "Epoch 6: train_loss=0.4239849023649596, val_loss=0.48717687106385504, val_accuracy=0.8263333333333334\n",
      "Epoch 7: train_loss=0.4143454837731918, val_loss=0.4161980800526876, val_accuracy=0.8451666666666666\n",
      "Epoch 8: train_loss=0.40808110840197553, val_loss=0.4272640203956772, val_accuracy=0.8455\n",
      "Epoch 9: train_loss=0.40061108219289165, val_loss=0.4254586124600401, val_accuracy=0.8478333333333333\n",
      "Epoch 10: train_loss=0.3958833224442889, val_loss=0.4710554140999627, val_accuracy=0.8313333333333334\n",
      "Epoch 11: train_loss=0.3897935232857135, val_loss=0.5148867055107026, val_accuracy=0.8208333333333333\n",
      "Epoch 12: train_loss=0.388712833272241, val_loss=0.4038123116952992, val_accuracy=0.8516666666666667\n",
      "Epoch 13: train_loss=0.3850529819451982, val_loss=0.4452008195963394, val_accuracy=0.8426666666666667\n",
      "Epoch 14: train_loss=0.38147778208933797, val_loss=0.41870518262675605, val_accuracy=0.854\n",
      "Epoch 15: train_loss=0.3753644360572069, val_loss=0.4084569892909231, val_accuracy=0.8523333333333334\n",
      "Epoch 16: train_loss=0.37274323360108624, val_loss=0.46640133425664354, val_accuracy=0.8368333333333333\n",
      "Epoch 17: train_loss=0.37173000969713454, val_loss=0.3901155015258644, val_accuracy=0.8636666666666667\n",
      "Epoch 18: train_loss=0.37060493768102815, val_loss=0.4322992307626228, val_accuracy=0.8438333333333333\n",
      "Epoch 19: train_loss=0.36953870772061775, val_loss=0.5336731593677955, val_accuracy=0.8145\n",
      "Epoch 20: train_loss=0.3670379291338325, val_loss=0.4099124428803148, val_accuracy=0.8541666666666666\n",
      "Epoch 21: train_loss=0.36422075156505573, val_loss=0.3915003463703928, val_accuracy=0.865\n",
      "Epoch 22: train_loss=0.36187048775731434, val_loss=0.4383032385122763, val_accuracy=0.85\n",
      "Epoch 23: train_loss=0.35934826039917916, val_loss=0.4162002800622652, val_accuracy=0.8486666666666667\n",
      "Epoch 24: train_loss=0.3560068524184724, val_loss=0.4054461858395002, val_accuracy=0.8595\n",
      "Epoch 25: train_loss=0.35592129770727515, val_loss=0.44232182262588016, val_accuracy=0.8536666666666667\n",
      "Epoch 26: train_loss=0.3532285757711963, val_loss=0.3704535785710037, val_accuracy=0.8665\n",
      "Epoch 27: train_loss=0.3536131573856591, val_loss=0.402357043334861, val_accuracy=0.8616666666666667\n",
      "Epoch 28: train_loss=0.35359947006437753, val_loss=0.4564824994858134, val_accuracy=0.8366666666666667\n",
      "Epoch 29: train_loss=0.3511190230080307, val_loss=0.3948087360550932, val_accuracy=0.8651666666666666\n",
      "Epoch 30: train_loss=0.3516997163768658, val_loss=0.38072994238467034, val_accuracy=0.8623333333333333\n",
      "Epoch 31: train_loss=0.3498297336421408, val_loss=0.40786347205930557, val_accuracy=0.8526666666666667\n",
      "Epoch 32: train_loss=0.34911083754008165, val_loss=0.39240167425720174, val_accuracy=0.8586666666666667\n",
      "Epoch 33: train_loss=0.3471946816988266, val_loss=0.3862872789465905, val_accuracy=0.8596666666666667\n",
      "Epoch 34: train_loss=0.34847981802431705, val_loss=0.38747298387417506, val_accuracy=0.8621666666666666\n",
      "Epoch 35: train_loss=0.34515571128505523, val_loss=0.4062407905941804, val_accuracy=0.8581666666666666\n",
      "Epoch 36: train_loss=0.3437107595046436, val_loss=0.38893464890302143, val_accuracy=0.8656666666666667\n",
      "Epoch 37: train_loss=0.34616264552819864, val_loss=0.4143525252438002, val_accuracy=0.8543333333333333\n",
      "Epoch 38: train_loss=0.341183776431395, val_loss=0.44052061741289494, val_accuracy=0.853\n",
      "Epoch 39: train_loss=0.3404516054382165, val_loss=0.3679350544079966, val_accuracy=0.8698333333333333\n",
      "Test accuracy: test_loss=0.38428470073706106, 0.8654\n"
     ]
    }
   ],
   "source": [
    "with tqdm() as pbar:\n",
    "    pbar.set_description(\"Val\")\n",
    "    val_loss, val_accuracy = evaluate(pbar, (X_val, y_val))\n",
    "    print(f\"Initial: {val_loss=}, {val_accuracy}\")\n",
    "    \n",
    "    for epoch in range(num_epochs):\n",
    "        pbar.set_description(\"Train\")\n",
    "        train_loss = train_epoch(pbar)\n",
    "\n",
    "        pbar.set_description(\"Val\")\n",
    "        val_loss, val_accuracy = evaluate(pbar, (X_val, y_val))\n",
    "        \n",
    "        print(f\"Epoch {epoch}: {train_loss=}, {val_loss=}, {val_accuracy=}\")\n",
    "\n",
    "    pbar.set_description(\"Test\")\n",
    "    test_loss, test_accuracy = evaluate(pbar, (X_test, y_test))\n",
    "    \n",
    "print(f\"Test accuracy: {test_loss=}, {test_accuracy}\")"
   ]
  }
 ],
 "metadata": {
  "kernelspec": {
   "display_name": "deep_learning",
   "language": "python",
   "name": "python3"
  },
  "language_info": {
   "codemirror_mode": {
    "name": "ipython",
    "version": 3
   },
   "file_extension": ".py",
   "mimetype": "text/x-python",
   "name": "python",
   "nbconvert_exporter": "python",
   "pygments_lexer": "ipython3",
   "version": "3.11.3"
  }
 },
 "nbformat": 4,
 "nbformat_minor": 2
}

{
 "cells": [
  {
   "cell_type": "code",
   "execution_count": 1,
   "metadata": {},
   "outputs": [],
   "source": [
    "import numpy as np\n",
    "from random import shuffle\n",
    "from sklearn.datasets import load_breast_cancer"
   ]
  },
  {
   "cell_type": "code",
   "execution_count": 23,
   "metadata": {},
   "outputs": [],
   "source": [
    "def shuffle_dataset(X: np.ndarray, y: np.ndarray) -> np.ndarray:\n",
    "    idx = list(range(len(X)))\n",
    "    shuffle(idx)\n",
    "    return X[idx], y[idx]\n",
    "\n",
    "class SVM:\n",
    "    def __init__(self, num_features: int, lmbda: float=0.01):\n",
    "        self.w = np.random.rand(num_features)\n",
    "        self.b = 0.0\n",
    "        self.lmbda = lmbda\n",
    "        \n",
    "    def fit(self, X: np.ndarray, y: np.ndarray, num_iterations: int=1, lr: float=0.03):\n",
    "        y = 2*y - 1\n",
    "        for _ in range(num_iterations):\n",
    "            shuffle_dataset(X, y)\n",
    "            c = - y * (1 - y * (X @ self.w + self.b) > 0)\n",
    "            self.w -= lr * (self.lmbda * self.w + (c.reshape(-1, 1) * X).mean(axis=0))\n",
    "            self.b -= lr * c.mean()\n",
    "    \n",
    "    def predict(self, X: np.ndarray) -> int:\n",
    "        return (X @ self.w + self.b > 0).astype(int)"
   ]
  },
  {
   "cell_type": "code",
   "execution_count": 24,
   "metadata": {},
   "outputs": [],
   "source": [
    "data = load_breast_cancer(as_frame=True)\n",
    "X = data[\"data\"].values\n",
    "y = data[\"target\"].values\n",
    "\n",
    "idx = list(range(len(X)))\n",
    "shuffle(idx)\n",
    "X = X[idx]\n",
    "y = y[idx]\n",
    "\n",
    "val_size = int(len(X)*0.1)\n",
    "train_X, val_X = X[val_size:], X[:val_size]\n",
    "train_y, val_y = y[val_size:], y[:val_size]"
   ]
  },
  {
   "cell_type": "code",
   "execution_count": 25,
   "metadata": {},
   "outputs": [],
   "source": [
    "classifier = SVM(num_features=train_X.shape[1])\n",
    "classifier.fit(train_X, train_y, num_iterations=200, lr=0.1)"
   ]
  },
  {
   "cell_type": "code",
   "execution_count": 26,
   "metadata": {},
   "outputs": [
    {
     "data": {
      "text/plain": [
       "0.8392857142857143"
      ]
     },
     "execution_count": 26,
     "metadata": {},
     "output_type": "execute_result"
    }
   ],
   "source": [
    "(classifier.predict(val_X) == val_y).mean().item()"
   ]
  }
 ],
 "metadata": {
  "kernelspec": {
   "display_name": "deep_learning",
   "language": "python",
   "name": "python3"
  },
  "language_info": {
   "codemirror_mode": {
    "name": "ipython",
    "version": 3
   },
   "file_extension": ".py",
   "mimetype": "text/x-python",
   "name": "python",
   "nbconvert_exporter": "python",
   "pygments_lexer": "ipython3",
   "version": "3.11.3"
  }
 },
 "nbformat": 4,
 "nbformat_minor": 2
}

{
 "cells": [
  {
   "cell_type": "code",
   "execution_count": 1,
   "metadata": {},
   "outputs": [],
   "source": [
    "import numpy as np\n",
    "from random import shuffle\n",
    "from sklearn.datasets import load_iris\n",
    "from typing import List"
   ]
  },
  {
   "cell_type": "code",
   "execution_count": 2,
   "metadata": {},
   "outputs": [],
   "source": [
    "class GaussianNB:\n",
    "    def __init__(self, num_classes: int):\n",
    "        self.num_classes = num_classes\n",
    "        self.log_prior = None\n",
    "        self.feature_means = None\n",
    "        self.feature_stds = None\n",
    "        self.classes = None\n",
    "        \n",
    "    def fit(self, X: np.ndarray, y: np.ndarray):\n",
    "        self.classes, class_counts = np.unique(y, return_counts=True)\n",
    "        self.log_prior = np.log(class_counts / len(y))\n",
    "        \n",
    "        self.feature_means = np.empty((self.num_classes, X.shape[1]))\n",
    "        self.feature_stds = np.empty((self.num_classes, X.shape[1]))\n",
    "        for c in self.classes:\n",
    "            self.feature_means[c] = X[y == c].mean(axis=0)\n",
    "            self.feature_stds[c] = X[y == c].std(axis=0) + 1e-9\n",
    "            \n",
    "    def log_feature_probs(self, x: np.ndarray) -> np.ndarray:\n",
    "        return - np.log(np.sqrt(2*np.pi) * self.feature_stds) - 0.5 * ((x - self.feature_means)**2 / (self.feature_stds ** 2))\n",
    "    \n",
    "    def predict(self, x: List[int]) -> int:\n",
    "        return self.classes[(self.log_prior + self.log_feature_probs(x).sum(axis=1)).argmax()].item()"
   ]
  },
  {
   "cell_type": "code",
   "execution_count": 3,
   "metadata": {},
   "outputs": [],
   "source": [
    "data = load_iris(as_frame=True)\n",
    "X = data[\"data\"].values\n",
    "y = data[\"target\"].values\n",
    "\n",
    "idx = list(range(len(X)))\n",
    "shuffle(idx)\n",
    "X = X[idx]\n",
    "y = y[idx]\n",
    "\n",
    "val_size = int(len(X)*0.1)\n",
    "train_X, val_X = X[val_size:], X[:val_size]\n",
    "train_y, val_y = y[val_size:], y[:val_size]"
   ]
  },
  {
   "cell_type": "code",
   "execution_count": 4,
   "metadata": {},
   "outputs": [],
   "source": [
    "classifier = GaussianNB(len(np.unique(y)))\n",
    "classifier.fit(train_X, train_y)"
   ]
  },
  {
   "cell_type": "code",
   "execution_count": 5,
   "metadata": {},
   "outputs": [
    {
     "data": {
      "text/plain": [
       "0.9333333333333333"
      ]
     },
     "execution_count": 5,
     "metadata": {},
     "output_type": "execute_result"
    }
   ],
   "source": [
    "preds = []\n",
    "for x in val_X:\n",
    "    preds.append(classifier.predict(x))\n",
    "    \n",
    "preds = np.array(preds)\n",
    "\n",
    "(preds == val_y).mean().item()"
   ]
  }
 ],
 "metadata": {
  "kernelspec": {
   "display_name": "deep_learning",
   "language": "python",
   "name": "python3"
  },
  "language_info": {
   "codemirror_mode": {
    "name": "ipython",
    "version": 3
   },
   "file_extension": ".py",
   "mimetype": "text/x-python",
   "name": "python",
   "nbconvert_exporter": "python",
   "pygments_lexer": "ipython3",
   "version": "3.11.3"
  }
 },
 "nbformat": 4,
 "nbformat_minor": 2
}

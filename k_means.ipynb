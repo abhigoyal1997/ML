{
 "cells": [
  {
   "cell_type": "code",
   "execution_count": 7,
   "metadata": {},
   "outputs": [],
   "source": [
    "import numpy as np\n",
    "from random import shuffle\n",
    "from sklearn.datasets import load_iris"
   ]
  },
  {
   "cell_type": "code",
   "execution_count": 8,
   "metadata": {},
   "outputs": [],
   "source": [
    "def accuracy(preds, targets):\n",
    "    return (preds == targets).mean().item()"
   ]
  },
  {
   "cell_type": "code",
   "execution_count": 9,
   "metadata": {},
   "outputs": [],
   "source": [
    "class KMeansClassifier:\n",
    "    def __init__(self, k: int, threshold: float=1e-5):\n",
    "        self.k = k\n",
    "        self.threshold = threshold\n",
    "        \n",
    "    def fit(self, X: np.ndarray, y: np.ndarray):\n",
    "        self.centroids = np.empty((self.k, X.shape[1]))\n",
    "        self.centroids[0] = X[np.random.randint(len(X))]\n",
    "        \n",
    "        for i in range(1, self.k):\n",
    "            distance = ((X[None,:,:] - self.centroids[:i, None, :])**2).sum(axis=-1)\n",
    "            p = distance.min(axis=0)\n",
    "            self.centroids[i] = X[np.random.choice(np.arange(len(p)), p=p/p.sum())]\n",
    "            \n",
    "\n",
    "        distance = ((X[None,:,:] - self.centroids[:, None, :])**2).sum(axis=-1)\n",
    "        clusters = distance.argmin(axis=0)\n",
    "        prev_error = distance[clusters, np.arange(len(X))].mean()\n",
    "        \n",
    "        while True:\n",
    "            for i in range(self.k):\n",
    "                self.centroids[i] = X[clusters == i].mean(axis=0)\n",
    "                \n",
    "            distance = ((X[None,:,:] - self.centroids[:, None, :])**2).sum(axis=-1)\n",
    "            clusters = distance.argmin(axis=0)\n",
    "            error = distance[clusters, np.arange(len(X))].mean()\n",
    "            \n",
    "            if error - prev_error < self.threshold:\n",
    "                break\n",
    "            \n",
    "        self.classes = []\n",
    "        for i in range(self.k):\n",
    "            self.classes.append(np.bincount(y[clusters == i]).argmax())\n",
    "    \n",
    "    def predict(self, x: np.ndarray) -> int:\n",
    "        return self.classes[((self.centroids - x.reshape(1, -1))**2).sum(axis=1).argmin()]"
   ]
  },
  {
   "cell_type": "code",
   "execution_count": 10,
   "metadata": {},
   "outputs": [],
   "source": [
    "data = load_iris(as_frame=True)\n",
    "X = data[\"data\"].values\n",
    "y = data[\"target\"].values\n",
    "\n",
    "idx = list(range(len(X)))\n",
    "shuffle(idx)\n",
    "X = X[idx]\n",
    "y = y[idx]\n",
    "\n",
    "val_size = int(len(X)*0.1)\n",
    "train_X, val_X = X[val_size:], X[:val_size]\n",
    "train_y, val_y = y[val_size:], y[:val_size]"
   ]
  },
  {
   "cell_type": "code",
   "execution_count": 11,
   "metadata": {},
   "outputs": [
    {
     "data": {
      "text/plain": [
       "0.8740740740740741"
      ]
     },
     "execution_count": 11,
     "metadata": {},
     "output_type": "execute_result"
    }
   ],
   "source": [
    "classifier = KMeansClassifier(3)\n",
    "classifier.fit(train_X, train_y)\n",
    "\n",
    "preds = np.array([classifier.predict(x) for x in train_X])\n",
    "accuracy(preds, train_y)"
   ]
  },
  {
   "cell_type": "code",
   "execution_count": 12,
   "metadata": {},
   "outputs": [
    {
     "data": {
      "text/plain": [
       "0.9333333333333333"
      ]
     },
     "execution_count": 12,
     "metadata": {},
     "output_type": "execute_result"
    }
   ],
   "source": [
    "preds = np.array([classifier.predict(x) for x in val_X])\n",
    "accuracy(preds, val_y)"
   ]
  }
 ],
 "metadata": {
  "kernelspec": {
   "display_name": "deep_learning",
   "language": "python",
   "name": "python3"
  },
  "language_info": {
   "codemirror_mode": {
    "name": "ipython",
    "version": 3
   },
   "file_extension": ".py",
   "mimetype": "text/x-python",
   "name": "python",
   "nbconvert_exporter": "python",
   "pygments_lexer": "ipython3",
   "version": "3.11.3"
  }
 },
 "nbformat": 4,
 "nbformat_minor": 2
}

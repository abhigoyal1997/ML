{
 "cells": [
  {
   "cell_type": "code",
   "execution_count": 1,
   "metadata": {},
   "outputs": [],
   "source": [
    "import sys\n",
    "sys.path.append('fashion-mnist')\n",
    "\n",
    "from utils.mnist_reader import load_mnist\n",
    "\n",
    "X_train, y_train = load_mnist('fashion-mnist/data/fashion', kind='train')\n",
    "X_test, y_test = load_mnist('fashion-mnist/data/fashion', kind='t10k')"
   ]
  },
  {
   "cell_type": "code",
   "execution_count": 2,
   "metadata": {},
   "outputs": [],
   "source": [
    "import numpy as np\n",
    "import seaborn as sns\n",
    "from random import shuffle\n",
    "from typing import Dict, List, Tuple\n",
    "from tqdm.notebook import tqdm"
   ]
  },
  {
   "cell_type": "code",
   "execution_count": 3,
   "metadata": {},
   "outputs": [
    {
     "name": "stdout",
     "output_type": "stream",
     "text": [
      "(54000, 784) (54000,)\n",
      "(6000, 784) (6000,)\n",
      "(10000, 784) (10000,)\n"
     ]
    }
   ],
   "source": [
    "val_size = int(len(X_train)*0.1)\n",
    "\n",
    "idx = np.arange(len(X_train))\n",
    "shuffle(idx)\n",
    "X_train, y_train = X_train[idx], y_train[idx]\n",
    "X_val, y_val = X_train[:val_size], y_train[:val_size]\n",
    "X_train, y_train = X_train[val_size:], y_train[val_size:]\n",
    "\n",
    "print(X_train.shape, y_train.shape)\n",
    "print(X_val.shape, y_val.shape)\n",
    "print(X_test.shape, y_test.shape)"
   ]
  },
  {
   "cell_type": "code",
   "execution_count": 4,
   "metadata": {},
   "outputs": [
    {
     "data": {
      "text/plain": [
       "<Axes: >"
      ]
     },
     "execution_count": 4,
     "metadata": {},
     "output_type": "execute_result"
    },
    {
     "data": {
      "image/png": "[encoded data removed]",
      "text/plain": [
       "<Figure size 640x480 with 2 Axes>"
      ]
     },
     "metadata": {},
     "output_type": "display_data"
    }
   ],
   "source": [
    "sns.heatmap(X_train[np.random.randint(len(X_train))].reshape(28, 28))"
   ]
  },
  {
   "cell_type": "code",
   "execution_count": 5,
   "metadata": {},
   "outputs": [],
   "source": [
    "class Parameter:\n",
    "    def __init__(self, data: np.ndarray, grad: np.ndarray=None):\n",
    "        self.data = data\n",
    "        self.grad = grad\n",
    "        \n",
    "    def __repr__(self):\n",
    "        return f\"Parameter(data={self.data}, grad={self.grad})\"\n",
    "\n",
    "class Module:\n",
    "    def __init__(self, **parameters: Dict[str, Parameter]):\n",
    "        self.parameters: Dict[str, Parameter] = parameters\n",
    "    \n",
    "    def __call__(self, *inputs):\n",
    "        self._inputs = inputs\n",
    "        self._outputs = self.forward(*inputs)\n",
    "        return self._outputs"
   ]
  },
  {
   "cell_type": "code",
   "execution_count": 6,
   "metadata": {},
   "outputs": [],
   "source": [
    "class Linear(Module):\n",
    "    def __init__(self, input_features: int, output_features: int):\n",
    "        self.w = Parameter(np.random.randn(input_features, output_features) * 0.01)\n",
    "        self.b = Parameter(np.zeros(output_features))\n",
    "        super().__init__(w=self.w, b=self.b)\n",
    "        \n",
    "    def forward(self, X: np.ndarray) -> np.ndarray:\n",
    "        return X @ self.w.data + self.b.data\n",
    "    \n",
    "    def backward(self, grad_output: np.ndarray):\n",
    "        X = self._inputs[0]\n",
    "        self.w.grad = X.T @ grad_output\n",
    "        self.b.grad = grad_output.sum(axis=0)"
   ]
  },
  {
   "cell_type": "code",
   "execution_count": 7,
   "metadata": {},
   "outputs": [],
   "source": [
    "def softmax(z: np.ndarray) -> np.ndarray:\n",
    "    ez = np.exp(z - z.max(axis=-1, keepdims=True))\n",
    "    return ez / ez.sum(axis=-1, keepdims=True)\n",
    "\n",
    "def accuracy(preds: np.ndarray, targets: np.ndarray) -> float:\n",
    "    return (preds == targets).mean()"
   ]
  },
  {
   "cell_type": "code",
   "execution_count": 8,
   "metadata": {},
   "outputs": [],
   "source": [
    "class Loss(Module):\n",
    "    def forward(self, logits: np.ndarray, y: np.ndarray) -> np.ndarray:\n",
    "        logits -= logits.max(axis=-1, keepdims=True)\n",
    "        return (np.log(np.sum(np.exp(logits), axis=-1)) - logits[np.arange(len(y)), y]).mean()\n",
    "    \n",
    "    def backward(self, _) -> np.ndarray:\n",
    "        logits, y = self._inputs\n",
    "        grads = softmax(logits)\n",
    "        grads[np.arange(len(y)), y] -= 1\n",
    "        return grads / len(y)"
   ]
  },
  {
   "cell_type": "code",
   "execution_count": 9,
   "metadata": {},
   "outputs": [],
   "source": [
    "class SGD:\n",
    "    def __init__(self, params: List[Parameter], lr: float):\n",
    "        self.params = params\n",
    "        self.lr = lr\n",
    "        \n",
    "    def step(self):\n",
    "        for param in self.params:\n",
    "            param.data -= self.lr * param.grad\n",
    "            \n",
    "    def zero_grad(self):\n",
    "        for param in self.params:\n",
    "            param.grad = None"
   ]
  },
  {
   "cell_type": "code",
   "execution_count": 10,
   "metadata": {},
   "outputs": [],
   "source": [
    "input_features = 784\n",
    "output_classes = 10\n",
    "batch_size = 32\n",
    "lr = 0.03\n",
    "num_epochs = 10\n",
    "\n",
    "model = Linear(input_features, output_classes)\n",
    "loss_fn = Loss()\n",
    "optim = SGD(list(model.parameters.values()), lr=lr)"
   ]
  },
  {
   "cell_type": "code",
   "execution_count": 11,
   "metadata": {},
   "outputs": [],
   "source": [
    "def data_loader(data: Tuple, batch_size: int, train: bool=False):\n",
    "    if train:\n",
    "        idx = np.arange(len(X_train))\n",
    "        shuffle(idx)\n",
    "        data = [x[idx] for x in data]\n",
    "        \n",
    "    for i in range(0, len(data[0]), batch_size):\n",
    "        yield tuple(x[i:i+batch_size] for x in data)\n",
    "        \n",
    "def prepare_inputs(X: np.ndarray):\n",
    "    return (X / 255) - 0.5\n",
    "\n",
    "def train_epoch(pbar):\n",
    "    pbar.total = len(X_train)\n",
    "    train_loss = 0\n",
    "    num_train_samples = 0\n",
    "    for X, y in data_loader((X_train, y_train), batch_size, True):\n",
    "        loss = loss_fn(model(prepare_inputs(X)), y)\n",
    "\n",
    "        optim.zero_grad()\n",
    "        model.backward(loss_fn.backward(None))\n",
    "        optim.step()\n",
    "\n",
    "        train_loss += (loss * len(X)).item()\n",
    "        num_train_samples += len(X)\n",
    "        pbar.update(len(X))\n",
    "        pbar.set_postfix({\"train_loss\": train_loss / num_train_samples})\n",
    "        \n",
    "    return train_loss / num_train_samples\n",
    "        \n",
    "\n",
    "def evaluate(pbar, data):\n",
    "    X_val, y_val = data\n",
    "    pbar.total = len(X_val)\n",
    "    val_loss = 0\n",
    "    num_val_samples = 0\n",
    "    preds = []\n",
    "    for X, y in data_loader((X_val, y_val), batch_size, False):\n",
    "        outputs = model(prepare_inputs(X))\n",
    "        loss = loss_fn(outputs, y)\n",
    "        preds += outputs.argmax(axis=-1).tolist()\n",
    "\n",
    "        val_loss += (loss * len(X)).item()\n",
    "        num_val_samples += len(X)\n",
    "        pbar.update(len(X))\n",
    "        pbar.set_postfix({\"val_loss\": val_loss / num_val_samples, \"accuracy\": accuracy(np.asarray(preds), y_val[:num_val_samples])})\n",
    "        \n",
    "    return val_loss / num_val_samples, accuracy(np.asarray(preds), y_val[:num_val_samples])"
   ]
  },
  {
   "cell_type": "code",
   "execution_count": null,
   "metadata": {},
   "outputs": [
    {
     "data": {
      "application/vnd.jupyter.widget-view+json": {
       "model_id": "77ee2f3f07314b3bb66a70837f0e4812",
       "version_major": 2,
       "version_minor": 0
      },
      "text/plain": [
       "Val: 0it [00:00, ?it/s]"
      ]
     },
     "metadata": {},
     "output_type": "display_data"
    },
    {
     "name": "stdout",
     "output_type": "stream",
     "text": [
      "Initial: val_loss=2.296496748789688, 0.1845\n"
     ]
    },
    {
     "data": {
      "application/vnd.jupyter.widget-view+json": {
       "model_id": "7a10079586f54498aed977096a3a3ce6",
       "version_major": 2,
       "version_minor": 0
      },
      "text/plain": [
       "Train: 0it [00:00, ?it/s]"
      ]
     },
     "metadata": {},
     "output_type": "display_data"
    },
    {
     "data": {
      "application/vnd.jupyter.widget-view+json": {
       "model_id": "ebebd5bf40544025a7fc242f355ebf2e",
       "version_major": 2,
       "version_minor": 0
      },
      "text/plain": [
       "Val: 0it [00:00, ?it/s]"
      ]
     },
     "metadata": {},
     "output_type": "display_data"
    },
    {
     "ename": "TypeError",
     "evalue": "evaluate() missing 1 required positional argument: 'data'",
     "output_type": "error",
     "traceback": [
      "\u001b[0;31m---------------------------------------------------------------------------\u001b[0m",
      "\u001b[0;31mTypeError\u001b[0m                                 Traceback (most recent call last)",
      "Cell \u001b[0;32mIn[12], line 11\u001b[0m\n\u001b[1;32m      8\u001b[0m         train_loss \u001b[38;5;241m=\u001b[39m train_epoch(pbar)\n\u001b[1;32m     10\u001b[0m     \u001b[38;5;28;01mwith\u001b[39;00m tqdm(desc\u001b[38;5;241m=\u001b[39m\u001b[38;5;124m\"\u001b[39m\u001b[38;5;124mVal\u001b[39m\u001b[38;5;124m\"\u001b[39m, leave\u001b[38;5;241m=\u001b[39m\u001b[38;5;28;01mFalse\u001b[39;00m) \u001b[38;5;28;01mas\u001b[39;00m pbar:\n\u001b[0;32m---> 11\u001b[0m         val_loss, val_accuracy \u001b[38;5;241m=\u001b[39m \u001b[43mevaluate\u001b[49m\u001b[43m(\u001b[49m\u001b[43mpbar\u001b[49m\u001b[43m)\u001b[49m\n\u001b[1;32m     13\u001b[0m     \u001b[38;5;28mprint\u001b[39m(\u001b[38;5;124mf\u001b[39m\u001b[38;5;124m\"\u001b[39m\u001b[38;5;124mEpoch \u001b[39m\u001b[38;5;132;01m{\u001b[39;00mepoch\u001b[38;5;132;01m}\u001b[39;00m\u001b[38;5;124m: \u001b[39m\u001b[38;5;132;01m{\u001b[39;00mtrain_loss\u001b[38;5;132;01m=}\u001b[39;00m\u001b[38;5;124m, \u001b[39m\u001b[38;5;132;01m{\u001b[39;00mval_loss\u001b[38;5;132;01m=}\u001b[39;00m\u001b[38;5;124m, \u001b[39m\u001b[38;5;132;01m{\u001b[39;00mval_accuracy\u001b[38;5;132;01m=}\u001b[39;00m\u001b[38;5;124m\"\u001b[39m)\n\u001b[1;32m     15\u001b[0m \u001b[38;5;28;01mwith\u001b[39;00m tqdm(desc\u001b[38;5;241m=\u001b[39m\u001b[38;5;124m\"\u001b[39m\u001b[38;5;124mTest\u001b[39m\u001b[38;5;124m\"\u001b[39m, leave\u001b[38;5;241m=\u001b[39m\u001b[38;5;28;01mFalse\u001b[39;00m) \u001b[38;5;28;01mas\u001b[39;00m pbar:\n",
      "\u001b[0;31mTypeError\u001b[0m: evaluate() missing 1 required positional argument: 'data'"
     ]
    }
   ],
   "source": [
    "with tqdm(desc=\"Val\", leave=False) as pbar:\n",
    "    val_loss, val_accuracy = evaluate(pbar, (X_val, y_val))\n",
    "\n",
    "print(f\"Initial: {val_loss=}, {val_accuracy}\")\n",
    "\n",
    "for epoch in range(num_epochs):\n",
    "    with tqdm(desc=\"Train\", leave=False) as pbar:\n",
    "        train_loss = train_epoch(pbar)\n",
    "\n",
    "    with tqdm(desc=\"Val\", leave=False) as pbar:\n",
    "        val_loss, val_accuracy = evaluate(pbar, (X_val, y_val))\n",
    "        \n",
    "    print(f\"Epoch {epoch}: {train_loss=}, {val_loss=}, {val_accuracy=}\")\n",
    "    \n",
    "with tqdm(desc=\"Test\", leave=False) as pbar:\n",
    "    test_loss, test_accuracy = evaluate(pbar, (X_test, y_test))\n",
    "    \n",
    "print(f\"Test accuracy: {test_loss=}, {test_accuracy}\")"
   ]
  },
  {
   "cell_type": "code",
   "execution_count": null,
   "metadata": {},
   "outputs": [],
   "source": []
  }
 ],
 "metadata": {
  "kernelspec": {
   "display_name": "deep_learning",
   "language": "python",
   "name": "python3"
  },
  "language_info": {
   "codemirror_mode": {
    "name": "ipython",
    "version": 3
   },
   "file_extension": ".py",
   "mimetype": "text/x-python",
   "name": "python",
   "nbconvert_exporter": "python",
   "pygments_lexer": "ipython3",
   "version": "3.11.3"
  }
 },
 "nbformat": 4,
 "nbformat_minor": 2
}

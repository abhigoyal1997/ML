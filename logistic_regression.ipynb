{
 "cells": [
  {
   "cell_type": "code",
   "execution_count": 1,
   "metadata": {},
   "outputs": [],
   "source": [
    "import sys\n",
    "sys.path.append('fashion-mnist')\n",
    "\n",
    "from utils.mnist_reader import load_mnist\n",
    "\n",
    "X_train, y_train = load_mnist('fashion-mnist/data/fashion', kind='train')\n",
    "X_test, y_test = load_mnist('fashion-mnist/data/fashion', kind='t10k')"
   ]
  },
  {
   "cell_type": "code",
   "execution_count": 2,
   "metadata": {},
   "outputs": [],
   "source": [
    "import numpy as np\n",
    "import seaborn as sns\n",
    "from random import shuffle\n",
    "from typing import Dict, List, Tuple\n",
    "from tqdm.notebook import tqdm"
   ]
  },
  {
   "cell_type": "code",
   "execution_count": 3,
   "metadata": {},
   "outputs": [
    {
     "name": "stdout",
     "output_type": "stream",
     "text": [
      "(54000, 784) (54000,)\n",
      "(6000, 784) (6000,)\n",
      "(10000, 784) (10000,)\n"
     ]
    }
   ],
   "source": [
    "val_size = int(len(X_train)*0.1)\n",
    "\n",
    "idx = np.arange(len(X_train))\n",
    "shuffle(idx)\n",
    "X_train, y_train = X_train[idx], y_train[idx]\n",
    "X_val, y_val = X_train[:val_size], y_train[:val_size]\n",
    "X_train, y_train = X_train[val_size:], y_train[val_size:]\n",
    "\n",
    "print(X_train.shape, y_train.shape)\n",
    "print(X_val.shape, y_val.shape)\n",
    "print(X_test.shape, y_test.shape)"
   ]
  },
  {
   "cell_type": "code",
   "execution_count": 4,
   "metadata": {},
   "outputs": [
    {
     "data": {
      "text/plain": [
       "<Axes: >"
      ]
     },
     "execution_count": 4,
     "metadata": {},
     "output_type": "execute_result"
    },
    {
     "data": {
      "image/png": "[encoded data removed]",
      "text/plain": [
       "<Figure size 640x480 with 2 Axes>"
      ]
     },
     "metadata": {},
     "output_type": "display_data"
    }
   ],
   "source": [
    "sns.heatmap(X_train[np.random.randint(len(X_train))].reshape(28, 28))"
   ]
  },
  {
   "cell_type": "code",
   "execution_count": 5,
   "metadata": {},
   "outputs": [],
   "source": [
    "class Parameter:\n",
    "    def __init__(self, data: np.ndarray, grad: np.ndarray=None):\n",
    "        self.data = data\n",
    "        self.grad = grad\n",
    "        \n",
    "    def __repr__(self):\n",
    "        return f\"Parameter(data={self.data}, grad={self.grad})\"\n",
    "\n",
    "class Module:\n",
    "    def __init__(self, **parameters: Dict[str, Parameter]):\n",
    "        self.parameters: Dict[str, Parameter] = parameters\n",
    "    \n",
    "    def __call__(self, *inputs):\n",
    "        self._inputs = inputs\n",
    "        self._outputs = self.forward(*inputs)\n",
    "        return self._outputs"
   ]
  },
  {
   "cell_type": "code",
   "execution_count": 6,
   "metadata": {},
   "outputs": [],
   "source": [
    "class Linear(Module):\n",
    "    def __init__(self, input_features: int, output_features: int):\n",
    "        self.w = Parameter(np.random.randn(input_features, output_features) * 0.01)\n",
    "        self.b = Parameter(np.zeros(output_features))\n",
    "        super().__init__(w=self.w, b=self.b)\n",
    "        \n",
    "    def forward(self, X: np.ndarray) -> np.ndarray:\n",
    "        return X @ self.w.data + self.b.data\n",
    "    \n",
    "    def backward(self, grad_output: np.ndarray):\n",
    "        X = self._inputs[0]\n",
    "        self.w.grad = X.T @ grad_output\n",
    "        self.b.grad = grad_output.sum(axis=0)"
   ]
  },
  {
   "cell_type": "code",
   "execution_count": 7,
   "metadata": {},
   "outputs": [],
   "source": [
    "def softmax(z: np.ndarray) -> np.ndarray:\n",
    "    ez = np.exp(z - z.max(axis=-1, keepdims=True))\n",
    "    return ez / ez.sum(axis=-1, keepdims=True)\n",
    "\n",
    "def accuracy(preds: np.ndarray, targets: np.ndarray) -> float:\n",
    "    return (preds == targets).mean()"
   ]
  },
  {
   "cell_type": "code",
   "execution_count": 8,
   "metadata": {},
   "outputs": [],
   "source": [
    "class Loss(Module):\n",
    "    def forward(self, logits: np.ndarray, y: np.ndarray) -> np.ndarray:\n",
    "        logits -= logits.max(axis=-1, keepdims=True)\n",
    "        return (np.log(np.sum(np.exp(logits), axis=-1)) - logits[np.arange(len(y)), y]).mean()\n",
    "    \n",
    "    def backward(self, _) -> np.ndarray:\n",
    "        logits, y = self._inputs\n",
    "        grads = softmax(logits)\n",
    "        grads[np.arange(len(y)), y] -= 1\n",
    "        return grads / len(y)"
   ]
  },
  {
   "cell_type": "code",
   "execution_count": 9,
   "metadata": {},
   "outputs": [],
   "source": [
    "class SGD:\n",
    "    def __init__(self, params: List[Parameter], lr: float):\n",
    "        self.params = params\n",
    "        self.lr = lr\n",
    "        \n",
    "    def step(self):\n",
    "        for param in self.params:\n",
    "            param.data -= self.lr * param.grad\n",
    "            \n",
    "    def zero_grad(self):\n",
    "        for param in self.params:\n",
    "            param.grad = None"
   ]
  },
  {
   "cell_type": "code",
   "execution_count": 10,
   "metadata": {},
   "outputs": [],
   "source": [
    "input_features = 784\n",
    "output_classes = 10\n",
    "batch_size = 32\n",
    "lr = 0.03\n",
    "num_epochs = 10\n",
    "\n",
    "model = Linear(input_features, output_classes)\n",
    "loss_fn = Loss()\n",
    "optim = SGD(list(model.parameters.values()), lr=lr)"
   ]
  },
  {
   "cell_type": "code",
   "execution_count": 11,
   "metadata": {},
   "outputs": [],
   "source": [
    "def data_loader(data: Tuple, batch_size: int, train: bool=False):\n",
    "    if train:\n",
    "        idx = np.arange(len(X_train))\n",
    "        shuffle(idx)\n",
    "        data = [x[idx] for x in data]\n",
    "        \n",
    "    for i in range(0, len(data[0]), batch_size):\n",
    "        yield tuple(x[i:i+batch_size] for x in data)\n",
    "        \n",
    "def prepare_inputs(X: np.ndarray):\n",
    "    return (X / 255) - 0.5\n",
    "\n",
    "def train_epoch(pbar):\n",
    "    pbar.total = len(X_train)\n",
    "    train_loss = 0\n",
    "    num_train_samples = 0\n",
    "    for X, y in data_loader((X_train, y_train), batch_size, True):\n",
    "        loss = loss_fn(model(prepare_inputs(X)), y)\n",
    "\n",
    "        optim.zero_grad()\n",
    "        model.backward(loss_fn.backward(None))\n",
    "        optim.step()\n",
    "\n",
    "        train_loss += (loss * len(X)).item()\n",
    "        num_train_samples += len(X)\n",
    "        pbar.update(len(X))\n",
    "        pbar.set_postfix({\"train_loss\": train_loss / num_train_samples})\n",
    "        \n",
    "    return train_loss / num_train_samples\n",
    "        \n",
    "\n",
    "def val_epoch(pbar):\n",
    "    pbar.total = len(X_val)\n",
    "    val_loss = 0\n",
    "    num_val_samples = 0\n",
    "    preds = []\n",
    "    for X, y in data_loader((X_val, y_val), batch_size, False):\n",
    "        outputs = model(prepare_inputs(X))\n",
    "        loss = loss_fn(outputs, y)\n",
    "        preds += outputs.argmax(axis=-1).tolist()\n",
    "\n",
    "        val_loss += (loss * len(X)).item()\n",
    "        num_val_samples += len(X)\n",
    "        pbar.update(len(X))\n",
    "        pbar.set_postfix({\"val_loss\": val_loss / num_val_samples, \"accuracy\": accuracy(np.asarray(preds), y_val[:num_val_samples])})\n",
    "        \n",
    "    return val_loss / num_val_samples, accuracy(np.asarray(preds), y_val[:num_val_samples])"
   ]
  },
  {
   "cell_type": "code",
   "execution_count": 12,
   "metadata": {},
   "outputs": [
    {
     "data": {
      "application/vnd.jupyter.widget-view+json": {
       "model_id": "978e825967de46cf8a8bceade391b6e7",
       "version_major": 2,
       "version_minor": 0
      },
      "text/plain": [
       "Val: 0it [00:00, ?it/s]"
      ]
     },
     "metadata": {},
     "output_type": "display_data"
    },
    {
     "name": "stdout",
     "output_type": "stream",
     "text": [
      "Initial: val_loss=2.326256309968825, 0.06066666666666667\n"
     ]
    },
    {
     "data": {
      "application/vnd.jupyter.widget-view+json": {
       "model_id": "576a818dfd934748a221edd63b6e04a3",
       "version_major": 2,
       "version_minor": 0
      },
      "text/plain": [
       "Train: 0it [00:00, ?it/s]"
      ]
     },
     "metadata": {},
     "output_type": "display_data"
    },
    {
     "data": {
      "application/vnd.jupyter.widget-view+json": {
       "model_id": "c74dfd59fe45440fb7114ae000d27f27",
       "version_major": 2,
       "version_minor": 0
      },
      "text/plain": [
       "Val: 0it [00:00, ?it/s]"
      ]
     },
     "metadata": {},
     "output_type": "display_data"
    },
    {
     "name": "stdout",
     "output_type": "stream",
     "text": [
      "Epoch 0: train_loss=0.6414789936447342, val_loss=0.524257789725819, 0.8211666666666667\n"
     ]
    },
    {
     "data": {
      "application/vnd.jupyter.widget-view+json": {
       "model_id": "80046ac4a61944e981029cd3b04b0b1c",
       "version_major": 2,
       "version_minor": 0
      },
      "text/plain": [
       "Train: 0it [00:00, ?it/s]"
      ]
     },
     "metadata": {},
     "output_type": "display_data"
    },
    {
     "data": {
      "application/vnd.jupyter.widget-view+json": {
       "model_id": "b2a594cee1ee42aba7b24117b370309a",
       "version_major": 2,
       "version_minor": 0
      },
      "text/plain": [
       "Val: 0it [00:00, ?it/s]"
      ]
     },
     "metadata": {},
     "output_type": "display_data"
    },
    {
     "name": "stdout",
     "output_type": "stream",
     "text": [
      "Epoch 1: train_loss=0.49941291502877894, val_loss=0.48139633047275865, 0.8348333333333333\n"
     ]
    },
    {
     "data": {
      "application/vnd.jupyter.widget-view+json": {
       "model_id": "dfa95f7c38594ddfaf6140ab6c9bc6e9",
       "version_major": 2,
       "version_minor": 0
      },
      "text/plain": [
       "Train: 0it [00:00, ?it/s]"
      ]
     },
     "metadata": {},
     "output_type": "display_data"
    },
    {
     "data": {
      "application/vnd.jupyter.widget-view+json": {
       "model_id": "83ff7d2faa13495fabb2ec6e180ac9ed",
       "version_major": 2,
       "version_minor": 0
      },
      "text/plain": [
       "Val: 0it [00:00, ?it/s]"
      ]
     },
     "metadata": {},
     "output_type": "display_data"
    },
    {
     "name": "stdout",
     "output_type": "stream",
     "text": [
      "Epoch 2: train_loss=0.47058478984052776, val_loss=0.46239227355317597, 0.8376666666666667\n"
     ]
    },
    {
     "data": {
      "application/vnd.jupyter.widget-view+json": {
       "model_id": "97a60be144844334a73af560cc511e34",
       "version_major": 2,
       "version_minor": 0
      },
      "text/plain": [
       "Train: 0it [00:00, ?it/s]"
      ]
     },
     "metadata": {},
     "output_type": "display_data"
    },
    {
     "data": {
      "application/vnd.jupyter.widget-view+json": {
       "model_id": "bac63dcc48b14e2993ef3feb2c8e93d7",
       "version_major": 2,
       "version_minor": 0
      },
      "text/plain": [
       "Val: 0it [00:00, ?it/s]"
      ]
     },
     "metadata": {},
     "output_type": "display_data"
    },
    {
     "name": "stdout",
     "output_type": "stream",
     "text": [
      "Epoch 3: train_loss=0.4551791304644738, val_loss=0.4500517203756088, 0.845\n"
     ]
    },
    {
     "data": {
      "application/vnd.jupyter.widget-view+json": {
       "model_id": "d01f400378404fb585e73bbb1c796612",
       "version_major": 2,
       "version_minor": 0
      },
      "text/plain": [
       "Train: 0it [00:00, ?it/s]"
      ]
     },
     "metadata": {},
     "output_type": "display_data"
    },
    {
     "data": {
      "application/vnd.jupyter.widget-view+json": {
       "model_id": "ae9d93ea66694fae99c7c661d4ed28fa",
       "version_major": 2,
       "version_minor": 0
      },
      "text/plain": [
       "Val: 0it [00:00, ?it/s]"
      ]
     },
     "metadata": {},
     "output_type": "display_data"
    },
    {
     "name": "stdout",
     "output_type": "stream",
     "text": [
      "Epoch 4: train_loss=0.4445768766552856, val_loss=0.44860874317326016, 0.8448333333333333\n"
     ]
    },
    {
     "data": {
      "application/vnd.jupyter.widget-view+json": {
       "model_id": "9b66afcc3d9143f499816842bd561f45",
       "version_major": 2,
       "version_minor": 0
      },
      "text/plain": [
       "Train: 0it [00:00, ?it/s]"
      ]
     },
     "metadata": {},
     "output_type": "display_data"
    },
    {
     "data": {
      "application/vnd.jupyter.widget-view+json": {
       "model_id": "998839f3f02347d49067cb79ea1c2037",
       "version_major": 2,
       "version_minor": 0
      },
      "text/plain": [
       "Val: 0it [00:00, ?it/s]"
      ]
     },
     "metadata": {},
     "output_type": "display_data"
    },
    {
     "name": "stdout",
     "output_type": "stream",
     "text": [
      "Epoch 5: train_loss=0.4372443531378618, val_loss=0.44627252872755935, 0.8413333333333334\n"
     ]
    },
    {
     "data": {
      "application/vnd.jupyter.widget-view+json": {
       "model_id": "45563a3d15294a69bfc8dc2f7262f1c3",
       "version_major": 2,
       "version_minor": 0
      },
      "text/plain": [
       "Train: 0it [00:00, ?it/s]"
      ]
     },
     "metadata": {},
     "output_type": "display_data"
    },
    {
     "data": {
      "application/vnd.jupyter.widget-view+json": {
       "model_id": "d3bc46197b04478e80c8d36c73f1009b",
       "version_major": 2,
       "version_minor": 0
      },
      "text/plain": [
       "Val: 0it [00:00, ?it/s]"
      ]
     },
     "metadata": {},
     "output_type": "display_data"
    },
    {
     "name": "stdout",
     "output_type": "stream",
     "text": [
      "Epoch 6: train_loss=0.4315644646953359, val_loss=0.43694792777153196, 0.8446666666666667\n"
     ]
    },
    {
     "data": {
      "application/vnd.jupyter.widget-view+json": {
       "model_id": "4cf9e2e99c0d49adb6f307a4bca85489",
       "version_major": 2,
       "version_minor": 0
      },
      "text/plain": [
       "Train: 0it [00:00, ?it/s]"
      ]
     },
     "metadata": {},
     "output_type": "display_data"
    },
    {
     "data": {
      "application/vnd.jupyter.widget-view+json": {
       "model_id": "650f940507ea4a1299b3a1c4d86ce7e4",
       "version_major": 2,
       "version_minor": 0
      },
      "text/plain": [
       "Val: 0it [00:00, ?it/s]"
      ]
     },
     "metadata": {},
     "output_type": "display_data"
    },
    {
     "name": "stdout",
     "output_type": "stream",
     "text": [
      "Epoch 7: train_loss=0.42664098732248706, val_loss=0.4320982109757885, 0.8481666666666666\n"
     ]
    },
    {
     "data": {
      "application/vnd.jupyter.widget-view+json": {
       "model_id": "a7a70fe85ce142b4ad3bd6e3af17eab3",
       "version_major": 2,
       "version_minor": 0
      },
      "text/plain": [
       "Train: 0it [00:00, ?it/s]"
      ]
     },
     "metadata": {},
     "output_type": "display_data"
    },
    {
     "data": {
      "application/vnd.jupyter.widget-view+json": {
       "model_id": "6066f3ea177149b4880434d0d2b85fd1",
       "version_major": 2,
       "version_minor": 0
      },
      "text/plain": [
       "Val: 0it [00:00, ?it/s]"
      ]
     },
     "metadata": {},
     "output_type": "display_data"
    },
    {
     "name": "stdout",
     "output_type": "stream",
     "text": [
      "Epoch 8: train_loss=0.42228830987695065, val_loss=0.4317760628133527, 0.8491666666666666\n"
     ]
    },
    {
     "data": {
      "application/vnd.jupyter.widget-view+json": {
       "model_id": "2e7ca383c45b494083c5b6c229750353",
       "version_major": 2,
       "version_minor": 0
      },
      "text/plain": [
       "Train: 0it [00:00, ?it/s]"
      ]
     },
     "metadata": {},
     "output_type": "display_data"
    },
    {
     "data": {
      "application/vnd.jupyter.widget-view+json": {
       "model_id": "64e0e7c104f14bea9aa90b3e7838187a",
       "version_major": 2,
       "version_minor": 0
      },
      "text/plain": [
       "Val: 0it [00:00, ?it/s]"
      ]
     },
     "metadata": {},
     "output_type": "display_data"
    },
    {
     "name": "stdout",
     "output_type": "stream",
     "text": [
      "Epoch 9: train_loss=0.4192536371520857, val_loss=0.4284362529347051, 0.8511666666666666\n"
     ]
    }
   ],
   "source": [
    "with tqdm(desc=\"Val\", leave=False) as pbar:\n",
    "    val_loss, val_accuracy = val_epoch(pbar)\n",
    "\n",
    "print(f\"Initial: {val_loss=}, {val_accuracy}\")\n",
    "\n",
    "for epoch in range(num_epochs):\n",
    "    with tqdm(desc=\"Train\", leave=False) as pbar:\n",
    "        train_loss = train_epoch(pbar)\n",
    "\n",
    "    with tqdm(desc=\"Val\", leave=False) as pbar:\n",
    "        val_loss, val_accuracy = val_epoch(pbar)\n",
    "        \n",
    "    print(f\"Epoch {epoch}: {train_loss=}, {val_loss=}, {val_accuracy}\")"
   ]
  }
 ],
 "metadata": {
  "kernelspec": {
   "display_name": "deep_learning",
   "language": "python",
   "name": "python3"
  },
  "language_info": {
   "codemirror_mode": {
    "name": "ipython",
    "version": 3
   },
   "file_extension": ".py",
   "mimetype": "text/x-python",
   "name": "python",
   "nbconvert_exporter": "python",
   "pygments_lexer": "ipython3",
   "version": "3.11.3"
  }
 },
 "nbformat": 4,
 "nbformat_minor": 2
}

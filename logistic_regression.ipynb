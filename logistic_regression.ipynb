{
 "cells": [
  {
   "cell_type": "code",
   "execution_count": 1,
   "metadata": {},
   "outputs": [],
   "source": [
    "import sys\n",
    "sys.path.append('fashion-mnist')\n",
    "\n",
    "from utils.mnist_reader import load_mnist\n",
    "\n",
    "X_train, y_train = load_mnist('fashion-mnist/data/fashion', kind='train')\n",
    "X_test, y_test = load_mnist('fashion-mnist/data/fashion', kind='t10k')"
   ]
  },
  {
   "cell_type": "code",
   "execution_count": 2,
   "metadata": {},
   "outputs": [],
   "source": [
    "import numpy as np\n",
    "import seaborn as sns\n",
    "from random import shuffle\n",
    "from typing import Dict, List, Tuple\n",
    "from tqdm.notebook import tqdm"
   ]
  },
  {
   "cell_type": "code",
   "execution_count": 3,
   "metadata": {},
   "outputs": [
    {
     "name": "stdout",
     "output_type": "stream",
     "text": [
      "(54000, 784) (54000,)\n",
      "(6000, 784) (6000,)\n",
      "(10000, 784) (10000,)\n"
     ]
    }
   ],
   "source": [
    "val_size = int(len(X_train)*0.1)\n",
    "\n",
    "idx = np.arange(len(X_train))\n",
    "shuffle(idx)\n",
    "X_train, y_train = X_train[idx], y_train[idx]\n",
    "X_val, y_val = X_train[:val_size], y_train[:val_size]\n",
    "X_train, y_train = X_train[val_size:], y_train[val_size:]\n",
    "\n",
    "print(X_train.shape, y_train.shape)\n",
    "print(X_val.shape, y_val.shape)\n",
    "print(X_test.shape, y_test.shape)"
   ]
  },
  {
   "cell_type": "code",
   "execution_count": 4,
   "metadata": {},
   "outputs": [
    {
     "data": {
      "text/plain": [
       "<Axes: >"
      ]
     },
     "execution_count": 4,
     "metadata": {},
     "output_type": "execute_result"
    },
    {
     "data": {
      "image/png": "[encoded data removed]",
      "text/plain": [
       "<Figure size 640x480 with 2 Axes>"
      ]
     },
     "metadata": {},
     "output_type": "display_data"
    }
   ],
   "source": [
    "sns.heatmap(X_train[np.random.randint(len(X_train))].reshape(28, 28))"
   ]
  },
  {
   "cell_type": "code",
   "execution_count": 5,
   "metadata": {},
   "outputs": [],
   "source": [
    "def data_loader(data: Tuple, batch_size: int, train: bool=False):\n",
    "    if train:\n",
    "        idx = np.arange(len(X_train))\n",
    "        shuffle(idx)\n",
    "        data = [x[idx] for x in data]\n",
    "        \n",
    "    for i in range(0, len(data[0]), batch_size):\n",
    "        yield tuple(x[i:i+batch_size] for x in data)\n",
    "        \n",
    "def prepare_inputs(X: np.ndarray):\n",
    "    return (X / 255) - 0.5"
   ]
  },
  {
   "cell_type": "code",
   "execution_count": 6,
   "metadata": {},
   "outputs": [],
   "source": [
    "class Parameter:\n",
    "    def __init__(self, data: np.ndarray, grad: np.ndarray=None):\n",
    "        self.data = data\n",
    "        self.grad = grad\n",
    "        \n",
    "    def __repr__(self):\n",
    "        return f\"Parameter(data={self.data}, grad={self.grad})\"\n",
    "\n",
    "class Module:\n",
    "    def __init__(self, **parameters: Dict[str, Parameter]):\n",
    "        self.parameters: Dict[str, Parameter] = parameters\n",
    "    \n",
    "    def __call__(self, *inputs):\n",
    "        self._inputs = inputs\n",
    "        self._outputs = self.forward(*inputs)\n",
    "        return self._outputs\n",
    "    \n",
    "    def train(self, training: bool=True):\n",
    "        self.training = training\n",
    "        for k in dir(self):\n",
    "            if isinstance(getattr(self, k), Module):\n",
    "                getattr(self, k).train(training)\n",
    "        \n",
    "    def eval(self):\n",
    "        self.train(False)"
   ]
  },
  {
   "cell_type": "code",
   "execution_count": 7,
   "metadata": {},
   "outputs": [],
   "source": [
    "class Linear(Module):\n",
    "    def __init__(self, input_features: int, output_features: int):\n",
    "        self.w = Parameter(np.random.randn(input_features, output_features) * 0.01)\n",
    "        self.b = Parameter(np.zeros(output_features))\n",
    "        super().__init__(w=self.w, b=self.b)\n",
    "        \n",
    "    def forward(self, X: np.ndarray) -> np.ndarray:\n",
    "        return X @ self.w.data + self.b.data\n",
    "    \n",
    "    def backward(self, grad_output: np.ndarray):\n",
    "        X = self._inputs[0]\n",
    "        self.w.grad = X.T @ grad_output\n",
    "        self.b.grad = grad_output.sum(axis=0)"
   ]
  },
  {
   "cell_type": "code",
   "execution_count": 8,
   "metadata": {},
   "outputs": [],
   "source": [
    "def softmax(z: np.ndarray) -> np.ndarray:\n",
    "    ez = np.exp(z - z.max(axis=-1, keepdims=True))\n",
    "    return ez / ez.sum(axis=-1, keepdims=True)\n",
    "\n",
    "def accuracy(preds: np.ndarray, targets: np.ndarray) -> float:\n",
    "    return (preds == targets).mean().item()"
   ]
  },
  {
   "cell_type": "code",
   "execution_count": 9,
   "metadata": {},
   "outputs": [],
   "source": [
    "class Loss(Module):\n",
    "    def forward(self, logits: np.ndarray, y: np.ndarray) -> np.ndarray:\n",
    "        logits -= logits.max(axis=-1, keepdims=True)\n",
    "        return (np.log(np.sum(np.exp(logits), axis=-1)) - logits[np.arange(len(y)), y]).mean()\n",
    "    \n",
    "    def backward(self, _) -> np.ndarray:\n",
    "        logits, y = self._inputs\n",
    "        grads = softmax(logits)\n",
    "        grads[np.arange(len(y)), y] -= 1\n",
    "        return grads / len(y)"
   ]
  },
  {
   "cell_type": "code",
   "execution_count": 10,
   "metadata": {},
   "outputs": [],
   "source": [
    "class SGD:\n",
    "    def __init__(self, params: List[Parameter], lr: float):\n",
    "        self.params = params\n",
    "        self.lr = lr\n",
    "        \n",
    "    def step(self):\n",
    "        for param in self.params:\n",
    "            param.data -= self.lr * param.grad\n",
    "            \n",
    "    def zero_grad(self):\n",
    "        for param in self.params:\n",
    "            param.grad = None"
   ]
  },
  {
   "cell_type": "code",
   "execution_count": 11,
   "metadata": {},
   "outputs": [],
   "source": [
    "input_features = 784\n",
    "output_classes = 10\n",
    "batch_size = 32\n",
    "lr = 0.03\n",
    "num_epochs = 10\n",
    "\n",
    "model = Linear(input_features, output_classes)\n",
    "loss_fn = Loss()\n",
    "optim = SGD(list(model.parameters.values()), lr=lr)"
   ]
  },
  {
   "cell_type": "code",
   "execution_count": 12,
   "metadata": {},
   "outputs": [],
   "source": [
    "def train_epoch(pbar):\n",
    "    pbar.total = len(X_train)\n",
    "    train_loss = 0\n",
    "    num_train_samples = 0\n",
    "    model.train()\n",
    "    for X, y in data_loader((X_train, y_train), batch_size, True):\n",
    "        loss = loss_fn(model(prepare_inputs(X)), y)\n",
    "\n",
    "        optim.zero_grad()\n",
    "        model.backward(loss_fn.backward(None))\n",
    "        optim.step()\n",
    "\n",
    "        train_loss += (loss * len(X)).item()\n",
    "        num_train_samples += len(X)\n",
    "        pbar.update(len(X))\n",
    "        pbar.set_postfix({\"train_loss\": train_loss / num_train_samples})\n",
    "        \n",
    "    return train_loss / num_train_samples\n",
    "        \n",
    "\n",
    "def evaluate(pbar, data):\n",
    "    X_val, y_val = data\n",
    "    pbar.total = len(X_val)\n",
    "    val_loss = 0\n",
    "    num_val_samples = 0\n",
    "    preds = []\n",
    "    model.eval()\n",
    "    for X, y in data_loader((X_val, y_val), batch_size, False):\n",
    "        outputs = model(prepare_inputs(X))\n",
    "        loss = loss_fn(outputs, y)\n",
    "        preds += outputs.argmax(axis=-1).tolist()\n",
    "\n",
    "        val_loss += (loss * len(X)).item()\n",
    "        num_val_samples += len(X)\n",
    "        pbar.update(len(X))\n",
    "        pbar.set_postfix({\"val_loss\": val_loss / num_val_samples, \"accuracy\": accuracy(np.asarray(preds), y_val[:num_val_samples])})\n",
    "        \n",
    "    return val_loss / num_val_samples, accuracy(np.asarray(preds), y_val[:num_val_samples])"
   ]
  },
  {
   "cell_type": "code",
   "execution_count": 13,
   "metadata": {},
   "outputs": [
    {
     "data": {
      "application/vnd.jupyter.widget-view+json": {
       "model_id": "3fd9abd20db44eab815b58c5671536d1",
       "version_major": 2,
       "version_minor": 0
      },
      "text/plain": [
       "0it [00:00, ?it/s]"
      ]
     },
     "metadata": {},
     "output_type": "display_data"
    },
    {
     "name": "stdout",
     "output_type": "stream",
     "text": [
      "Initial: val_loss=2.302263415159755, 0.07866666666666666\n",
      "Epoch 0: train_loss=0.6415907776206851, val_loss=0.5133554958579635, val_accuracy=0.8243333333333334\n",
      "Epoch 1: train_loss=0.5004923140830105, val_loss=0.46986617236221284, val_accuracy=0.8386666666666667\n",
      "Epoch 2: train_loss=0.47251544084883856, val_loss=0.45224675992855273, val_accuracy=0.8376666666666667\n",
      "Epoch 3: train_loss=0.45661421802995134, val_loss=0.44354653570354396, val_accuracy=0.845\n",
      "Epoch 4: train_loss=0.44688906223750097, val_loss=0.43017305738681944, val_accuracy=0.8533333333333334\n",
      "Epoch 5: train_loss=0.43877478703111983, val_loss=0.4270336106084626, val_accuracy=0.8533333333333334\n",
      "Epoch 6: train_loss=0.4330355467986852, val_loss=0.42155863247582714, val_accuracy=0.8508333333333333\n",
      "Epoch 7: train_loss=0.42857635940906413, val_loss=0.41737506369806054, val_accuracy=0.8531666666666666\n",
      "Epoch 8: train_loss=0.4241295450798934, val_loss=0.4168530415492058, val_accuracy=0.8563333333333333\n",
      "Epoch 9: train_loss=0.4206397169043704, val_loss=0.4223273277462599, val_accuracy=0.8523333333333334\n",
      "Test accuracy: test_loss=0.46539702080201106, 0.8343\n"
     ]
    }
   ],
   "source": [
    "with tqdm() as pbar:\n",
    "    pbar.set_description(\"Val\")\n",
    "    val_loss, val_accuracy = evaluate(pbar, (X_val, y_val))\n",
    "    print(f\"Initial: {val_loss=}, {val_accuracy}\")\n",
    "    \n",
    "    for epoch in range(num_epochs):\n",
    "        pbar.reset()\n",
    "        pbar.set_description(\"Train\")\n",
    "        train_loss = train_epoch(pbar)\n",
    "\n",
    "        pbar.reset()\n",
    "        pbar.set_description(\"Val\")\n",
    "        val_loss, val_accuracy = evaluate(pbar, (X_val, y_val))\n",
    "        \n",
    "        print(f\"Epoch {epoch}: {train_loss=}, {val_loss=}, {val_accuracy=}\")\n",
    "\n",
    "    pbar.set_description(\"Test\")\n",
    "    test_loss, test_accuracy = evaluate(pbar, (X_test, y_test))\n",
    "    \n",
    "print(f\"Test accuracy: {test_loss=}, {test_accuracy}\")"
   ]
  }
 ],
 "metadata": {
  "kernelspec": {
   "display_name": "deep_learning",
   "language": "python",
   "name": "python3"
  },
  "language_info": {
   "codemirror_mode": {
    "name": "ipython",
    "version": 3
   },
   "file_extension": ".py",
   "mimetype": "text/x-python",
   "name": "python",
   "nbconvert_exporter": "python",
   "pygments_lexer": "ipython3",
   "version": "3.11.3"
  }
 },
 "nbformat": 4,
 "nbformat_minor": 2
}
